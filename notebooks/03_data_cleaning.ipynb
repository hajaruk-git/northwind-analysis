{
 "cells": [
  {
   "cell_type": "markdown",
   "id": "404fa9ac-11bd-435a-9aee-5ba981b5e1a1",
   "metadata": {},
   "source": [
    "# Data Cleaning\n",
    "\n",
    "This notebook focuses on cleaning the tables from the Northwind database.  \n",
    "The objective is to:\n",
    "\n",
    "- Remove duplicates and irrelevant columns  \n",
    "- Standardize data types  \n",
    "- Fix formatting issues and inconsistencies  \n",
    "- Handle missing values appropriately  "
   ]
  },
  {
   "cell_type": "code",
   "execution_count": 2,
   "id": "285135c5-0a64-431b-afcb-1e4adc1dcc86",
   "metadata": {},
   "outputs": [
    {
     "data": {
      "text/html": [
       "<div>\n",
       "<style scoped>\n",
       "    .dataframe tbody tr th:only-of-type {\n",
       "        vertical-align: middle;\n",
       "    }\n",
       "\n",
       "    .dataframe tbody tr th {\n",
       "        vertical-align: top;\n",
       "    }\n",
       "\n",
       "    .dataframe thead th {\n",
       "        text-align: right;\n",
       "    }\n",
       "</style>\n",
       "<table border=\"1\" class=\"dataframe\">\n",
       "  <thead>\n",
       "    <tr style=\"text-align: right;\">\n",
       "      <th></th>\n",
       "      <th>name</th>\n",
       "    </tr>\n",
       "  </thead>\n",
       "  <tbody>\n",
       "    <tr>\n",
       "      <th>0</th>\n",
       "      <td>Categories</td>\n",
       "    </tr>\n",
       "    <tr>\n",
       "      <th>1</th>\n",
       "      <td>sqlite_sequence</td>\n",
       "    </tr>\n",
       "    <tr>\n",
       "      <th>2</th>\n",
       "      <td>CustomerCustomerDemo</td>\n",
       "    </tr>\n",
       "    <tr>\n",
       "      <th>3</th>\n",
       "      <td>CustomerDemographics</td>\n",
       "    </tr>\n",
       "    <tr>\n",
       "      <th>4</th>\n",
       "      <td>Customers</td>\n",
       "    </tr>\n",
       "    <tr>\n",
       "      <th>5</th>\n",
       "      <td>Employees</td>\n",
       "    </tr>\n",
       "    <tr>\n",
       "      <th>6</th>\n",
       "      <td>EmployeeTerritories</td>\n",
       "    </tr>\n",
       "    <tr>\n",
       "      <th>7</th>\n",
       "      <td>Order Details</td>\n",
       "    </tr>\n",
       "    <tr>\n",
       "      <th>8</th>\n",
       "      <td>Orders</td>\n",
       "    </tr>\n",
       "    <tr>\n",
       "      <th>9</th>\n",
       "      <td>Products</td>\n",
       "    </tr>\n",
       "    <tr>\n",
       "      <th>10</th>\n",
       "      <td>Regions</td>\n",
       "    </tr>\n",
       "    <tr>\n",
       "      <th>11</th>\n",
       "      <td>Shippers</td>\n",
       "    </tr>\n",
       "    <tr>\n",
       "      <th>12</th>\n",
       "      <td>Suppliers</td>\n",
       "    </tr>\n",
       "    <tr>\n",
       "      <th>13</th>\n",
       "      <td>Territories</td>\n",
       "    </tr>\n",
       "  </tbody>\n",
       "</table>\n",
       "</div>"
      ],
      "text/plain": [
       "                    name\n",
       "0             Categories\n",
       "1        sqlite_sequence\n",
       "2   CustomerCustomerDemo\n",
       "3   CustomerDemographics\n",
       "4              Customers\n",
       "5              Employees\n",
       "6    EmployeeTerritories\n",
       "7          Order Details\n",
       "8                 Orders\n",
       "9               Products\n",
       "10               Regions\n",
       "11              Shippers\n",
       "12             Suppliers\n",
       "13           Territories"
      ]
     },
     "execution_count": 2,
     "metadata": {},
     "output_type": "execute_result"
    }
   ],
   "source": [
    "import sqlite3\n",
    "import pandas as pd\n",
    "import os\n",
    "\n",
    "#create new folder \"cleaned\" for the cleaned tables\n",
    "os.makedirs('cleaned', exist_ok=True)\n",
    "\n",
    "#connect to SQLite database\n",
    "conn = sqlite3.connect(\"../data/northwind.db\")\n",
    "\n",
    "query = \"SELECT name FROM sqlite_master WHERE type='table';\"\n",
    "tables_df = pd.read_sql_query(query, conn)\n",
    "tables_df"
   ]
  },
  {
   "cell_type": "markdown",
   "id": "406ef92f-0dd3-462a-b363-e8d54820070f",
   "metadata": {},
   "source": [
    "## Categories\n",
    "\n",
    "From the exploration phase, we concluded that the following actions are to be made on this table:\n",
    "> - The column (`Picture`) is irrelevant and will be dropped in the cleaning phase.  \n",
    "> - `object` columns will be converted to `string` for consistency."
   ]
  },
  {
   "cell_type": "code",
   "execution_count": 42,
   "id": "29da1226-a5eb-4d99-83e1-f43ea45f8e04",
   "metadata": {},
   "outputs": [],
   "source": [
    "categories = pd.read_sql_query(\"SELECT * FROM Categories;\", conn)\n",
    "\n",
    "categories_cl = categories.drop(columns=['Picture'])\n",
    "\n",
    "#change types\n",
    "categories_cl['CategoryName'] = categories_cl['CategoryName'].astype('string')\n",
    "categories_cl['Description'] = categories_cl['Description'].astype('string')"
   ]
  },
  {
   "cell_type": "code",
   "execution_count": 43,
   "id": "785d1ad3-b8ca-411d-be85-d20c38b26ee3",
   "metadata": {},
   "outputs": [
    {
     "name": "stdout",
     "output_type": "stream",
     "text": [
      "<class 'pandas.core.frame.DataFrame'>\n",
      "RangeIndex: 8 entries, 0 to 7\n",
      "Data columns (total 3 columns):\n",
      " #   Column        Non-Null Count  Dtype \n",
      "---  ------        --------------  ----- \n",
      " 0   CategoryID    8 non-null      int64 \n",
      " 1   CategoryName  8 non-null      string\n",
      " 2   Description   8 non-null      string\n",
      "dtypes: int64(1), string(2)\n",
      "memory usage: 324.0 bytes\n"
     ]
    }
   ],
   "source": [
    "categories_cl.info()"
   ]
  },
  {
   "cell_type": "code",
   "execution_count": 44,
   "id": "d208adec-2953-44d8-b8ef-f008515f0ea8",
   "metadata": {},
   "outputs": [],
   "source": [
    "# save the cleaned file in the new folder\n",
    "categories_cl.to_csv('cleaned/categories.csv', index=False)"
   ]
  },
  {
   "cell_type": "markdown",
   "id": "c07fe928-f221-43f7-b731-888152b0d145",
   "metadata": {},
   "source": [
    "## Products\n",
    "\n",
    "From the exploration phase, we concluded that the following actions are to be made on this table:\n",
    "> -  Convert `Discontinued` to integer, `ProductName` to string for consistency "
   ]
  },
  {
   "cell_type": "code",
   "execution_count": 5,
   "id": "c830a923-5688-400e-ae2a-2fd859d03e72",
   "metadata": {},
   "outputs": [],
   "source": [
    "products = pd.read_sql_query(\"SELECT * FROM Products;\", conn)\n",
    "products_cl = products.copy()\n",
    "#convert columns to appropriate types\n",
    "products_cl['Discontinued'] = products_cl['Discontinued'].astype(int)\n",
    "products_cl['ProductName'] = products_cl['ProductName'].astype('string')\n",
    "products_cl['QuantityPerUnit'] = products_cl['QuantityPerUnit'].astype('string')"
   ]
  },
  {
   "cell_type": "code",
   "execution_count": 6,
   "id": "61771c04-9274-434c-abe0-9a584e2e0dcf",
   "metadata": {},
   "outputs": [
    {
     "name": "stdout",
     "output_type": "stream",
     "text": [
      "<class 'pandas.core.frame.DataFrame'>\n",
      "RangeIndex: 77 entries, 0 to 76\n",
      "Data columns (total 10 columns):\n",
      " #   Column           Non-Null Count  Dtype  \n",
      "---  ------           --------------  -----  \n",
      " 0   ProductID        77 non-null     int64  \n",
      " 1   ProductName      77 non-null     string \n",
      " 2   SupplierID       77 non-null     int64  \n",
      " 3   CategoryID       77 non-null     int64  \n",
      " 4   QuantityPerUnit  77 non-null     string \n",
      " 5   UnitPrice        77 non-null     float64\n",
      " 6   UnitsInStock     77 non-null     int64  \n",
      " 7   UnitsOnOrder     77 non-null     int64  \n",
      " 8   ReorderLevel     77 non-null     int64  \n",
      " 9   Discontinued     77 non-null     int64  \n",
      "dtypes: float64(1), int64(7), string(2)\n",
      "memory usage: 6.1 KB\n"
     ]
    }
   ],
   "source": [
    "products_cl.info()"
   ]
  },
  {
   "cell_type": "code",
   "execution_count": 7,
   "id": "3e0d67db-52d6-462f-bd01-b2f5cf8f4488",
   "metadata": {},
   "outputs": [],
   "source": [
    "#save the file\n",
    "products_cl.to_csv('cleaned/products.csv', index=False)"
   ]
  },
  {
   "cell_type": "markdown",
   "id": "4709338d-bee2-48c1-a448-3ce53a0ec6ab",
   "metadata": {},
   "source": [
    "## Order Details\n",
    "\n",
    "> No data cleaning needed."
   ]
  },
  {
   "cell_type": "code",
   "execution_count": 3,
   "id": "e6da3b73",
   "metadata": {},
   "outputs": [],
   "source": [
    "order_details = pd.read_sql_query('SELECT * FROM \"Order Details\";', conn)\n",
    "\n",
    "order_details.to_csv('cleaned/order_details.csv', index=False)"
   ]
  },
  {
   "cell_type": "markdown",
   "id": "6d67f538-d56a-4f98-b407-4d50c7627c0c",
   "metadata": {},
   "source": [
    "## Orders\n",
    "\n",
    "From the exploration phase, we concluded that the following actions are to be made on this table:\n",
    "> - Drop the columns `ShipAddress` and `ShipPostalCode` due to irrelevance and missing data\n",
    "> - Convert `OrderDate`, `RequiredDate`, `ShippedDate` to datetime\n",
    "> - Convert `CustomerID`, `ShipName`, `ShipCity`, `ShipRegion`, `ShipCountry` to string"
   ]
  },
  {
   "cell_type": "code",
   "execution_count": 48,
   "id": "430e03d4-4a74-4710-8c97-c1cd31bde7de",
   "metadata": {},
   "outputs": [],
   "source": [
    "orders = pd.read_sql_query(\"SELECT * FROM Orders;\", conn)\n",
    "\n",
    "#drop irrelevant columns\n",
    "orders_cl = orders.drop(columns=['ShipAddress', 'ShipPostalCode'])\n",
    "\n",
    "# Convert date columns to datetime\n",
    "date_cols = ['OrderDate', 'RequiredDate', 'ShippedDate']\n",
    "orders_cl[date_cols] = orders_cl[date_cols].apply(pd.to_datetime, format='mixed')\n",
    "\n",
    "# Convert selected object columns to string\n",
    "string_cols = ['CustomerID', 'ShipName', 'ShipCity', 'ShipRegion', 'ShipCountry']\n",
    "orders_cl[string_cols] = orders_cl[string_cols].astype('string')"
   ]
  },
  {
   "cell_type": "code",
   "execution_count": 49,
   "id": "d6acb38b-c925-4100-8f2b-4b24b2289e3e",
   "metadata": {},
   "outputs": [
    {
     "name": "stdout",
     "output_type": "stream",
     "text": [
      "<class 'pandas.core.frame.DataFrame'>\n",
      "RangeIndex: 16282 entries, 0 to 16281\n",
      "Data columns (total 12 columns):\n",
      " #   Column        Non-Null Count  Dtype         \n",
      "---  ------        --------------  -----         \n",
      " 0   OrderID       16282 non-null  int64         \n",
      " 1   CustomerID    16282 non-null  string        \n",
      " 2   EmployeeID    16282 non-null  int64         \n",
      " 3   OrderDate     16282 non-null  datetime64[ns]\n",
      " 4   RequiredDate  16282 non-null  datetime64[ns]\n",
      " 5   ShippedDate   16261 non-null  datetime64[ns]\n",
      " 6   ShipVia       16282 non-null  int64         \n",
      " 7   Freight       16282 non-null  float64       \n",
      " 8   ShipName      16282 non-null  string        \n",
      " 9   ShipCity      16282 non-null  string        \n",
      " 10  ShipRegion    16282 non-null  string        \n",
      " 11  ShipCountry   16282 non-null  string        \n",
      "dtypes: datetime64[ns](3), float64(1), int64(3), string(5)\n",
      "memory usage: 1.5 MB\n"
     ]
    }
   ],
   "source": [
    "orders_cl.info()"
   ]
  },
  {
   "cell_type": "code",
   "execution_count": 50,
   "id": "e4f7a0fb-f869-40aa-b7f8-48fb326daecd",
   "metadata": {},
   "outputs": [],
   "source": [
    "#save\n",
    "orders_cl.to_csv('cleaned/orders.csv', index=False)"
   ]
  },
  {
   "cell_type": "markdown",
   "id": "eb68ff99-3ef4-44c1-b421-eeac2217ab3d",
   "metadata": {},
   "source": [
    "## Customers\n",
    "\n",
    "From the exploration phase, we concluded that the following actions are to be made on this table:\n",
    "> - Drop the `Address`, `PostalCode`, `Phone` and `Fax` columns (many missing values, not useful)\n",
    "> - Convert all columns to `string` for consistency and Power BI compatibility\n",
    "> - Replace missing values in `City`, `Region`, and `Country` with `'Unknown'` to avoid nulls in Power BI"
   ]
  },
  {
   "cell_type": "code",
   "execution_count": 51,
   "id": "3c964fda-616f-49ba-88f5-61e792f03678",
   "metadata": {},
   "outputs": [],
   "source": [
    "# Load the table\n",
    "customers = pd.read_sql_query(\"SELECT * FROM Customers;\", conn)\n",
    "\n",
    "# Drop irrelevant columns\n",
    "customers_cl = customers.drop(columns=['Address', 'PostalCode', 'Phone', 'Fax'])\n",
    "\n",
    "# Convert all columns to string\n",
    "customers_cl = customers_cl.astype('string')\n",
    "\n",
    "# Replace missing values in City, Region, and Country\n",
    "customers_cl[['City', 'Region', 'Country']] = customers_cl[['City', 'Region', 'Country']].fillna('Unknown')"
   ]
  },
  {
   "cell_type": "code",
   "execution_count": 52,
   "id": "99334f45-6eb1-4cdd-b54a-0d1759503abf",
   "metadata": {},
   "outputs": [
    {
     "name": "stdout",
     "output_type": "stream",
     "text": [
      "<class 'pandas.core.frame.DataFrame'>\n",
      "RangeIndex: 93 entries, 0 to 92\n",
      "Data columns (total 7 columns):\n",
      " #   Column        Non-Null Count  Dtype \n",
      "---  ------        --------------  ----- \n",
      " 0   CustomerID    93 non-null     string\n",
      " 1   CompanyName   93 non-null     string\n",
      " 2   ContactName   93 non-null     string\n",
      " 3   ContactTitle  93 non-null     string\n",
      " 4   City          93 non-null     string\n",
      " 5   Region        93 non-null     string\n",
      " 6   Country       93 non-null     string\n",
      "dtypes: string(7)\n",
      "memory usage: 5.2 KB\n"
     ]
    }
   ],
   "source": [
    "customers_cl.info()"
   ]
  },
  {
   "cell_type": "code",
   "execution_count": 53,
   "id": "f254b2d6-b7e5-4e2d-bec1-1b2f4e4e8808",
   "metadata": {},
   "outputs": [],
   "source": [
    "# Save the cleaned file\n",
    "customers_cl.to_csv('cleaned/customers.csv', index=False)"
   ]
  },
  {
   "cell_type": "markdown",
   "id": "1c916bca-f2b3-4014-8b67-3a8d0e52c5d2",
   "metadata": {},
   "source": [
    "## Suppliers\n",
    "\n",
    "From the exploration phase, we concluded that the following actions are to be made on this table:\n",
    "> - Drop the `Address`, `PostalCode`, `Phone`, `Fax` and `HomePage` columns (not useful)\n",
    "> - Convert all columns to `string` for consistency and Power BI compatibility  \n",
    "> - Replace missing value in `Region` with `'Unknown'`"
   ]
  },
  {
   "cell_type": "code",
   "execution_count": 54,
   "id": "af0265cc-7680-4855-80c1-ef1875bcd59a",
   "metadata": {},
   "outputs": [],
   "source": [
    "suppliers = pd.read_sql_query(\"SELECT * FROM Suppliers;\", conn)\n",
    "\n",
    "suppliers_cl = suppliers.drop(columns=['Address', 'PostalCode', 'Phone', 'Fax', 'HomePage'])\n",
    "\n",
    "# Replace missing values in Region\n",
    "suppliers_cl['Region'] = suppliers_cl['Region'].fillna('Unknown')\n",
    "\n",
    "suppliers_cl = suppliers_cl.astype('string')"
   ]
  },
  {
   "cell_type": "code",
   "execution_count": 55,
   "id": "3cce27fb-a8d2-44c9-b639-1d1ddc019b8f",
   "metadata": {},
   "outputs": [
    {
     "name": "stdout",
     "output_type": "stream",
     "text": [
      "<class 'pandas.core.frame.DataFrame'>\n",
      "RangeIndex: 29 entries, 0 to 28\n",
      "Data columns (total 7 columns):\n",
      " #   Column        Non-Null Count  Dtype \n",
      "---  ------        --------------  ----- \n",
      " 0   SupplierID    29 non-null     string\n",
      " 1   CompanyName   29 non-null     string\n",
      " 2   ContactName   29 non-null     string\n",
      " 3   ContactTitle  29 non-null     string\n",
      " 4   City          29 non-null     string\n",
      " 5   Region        29 non-null     string\n",
      " 6   Country       29 non-null     string\n",
      "dtypes: string(7)\n",
      "memory usage: 1.7 KB\n"
     ]
    }
   ],
   "source": [
    "suppliers_cl.info()"
   ]
  },
  {
   "cell_type": "code",
   "execution_count": 56,
   "id": "23346a88-f83f-4cf4-a0ef-6260e674a25c",
   "metadata": {},
   "outputs": [],
   "source": [
    "suppliers_cl.to_csv('cleaned/suppliers.csv', index=False)"
   ]
  },
  {
   "cell_type": "markdown",
   "id": "14d8b7ca-a40c-4a0b-98b1-525b0cff4ad1",
   "metadata": {},
   "source": [
    "## Employees\n",
    "\n",
    "From the exploration phase, we concluded that the following actions are to be made on this table:\n",
    "> - Drop the `TitleOfCourtesy`, `BirthDate`, `Address`, `PostalCode`, `HomePhone`, `Extension`, `Photo`, `Notes`, and `PhotoPath` columns (not useful)  \n",
    "> - Convert `HireDate` to datetime  \n",
    "> - Convert all `object` columns to `string` for consistency and Power BI compatibility  \n",
    "> - Merge the `FirstName` and `LastName` columns  \n",
    "> - Replace missing value in `ReportsTo` with `-1` (likely top-level manager)\n"
   ]
  },
  {
   "cell_type": "code",
   "execution_count": 57,
   "id": "a74b42b5-d373-4a7a-b8bc-6cfa7b969c59",
   "metadata": {},
   "outputs": [],
   "source": [
    "employees = pd.read_sql_query(\"SELECT * FROM Employees;\", conn)\n",
    "\n",
    "employees_cl = employees.drop(columns=[\n",
    "    'TitleOfCourtesy', 'BirthDate', 'Address', 'PostalCode',\n",
    "    'HomePhone', 'Extension', 'Photo', 'Notes', 'PhotoPath'\n",
    "])\n",
    "\n",
    "# Convert HireDate to datetime\n",
    "employees_cl['HireDate'] = pd.to_datetime(employees_cl['HireDate'], format='mixed')\n",
    "\n",
    "# Merge FirstName and LastName, place after EmployeeID\n",
    "employees_cl.insert(loc=1, column='FullName', value=employees_cl['FirstName'] + ' ' + employees_cl['LastName'])\n",
    "employees_cl = employees_cl.drop(columns=['FirstName', 'LastName'])\n",
    "\n",
    "# Replace missing value in ReportsTo with -1\n",
    "employees_cl['ReportsTo'] = employees_cl['ReportsTo'].fillna(-1).astype(int)\n",
    "\n",
    "# Convert all object columns to string\n",
    "for col in employees_cl.select_dtypes(include='object').columns:\n",
    "    employees_cl[col] = employees_cl[col].astype('string')"
   ]
  },
  {
   "cell_type": "code",
   "execution_count": 58,
   "id": "9482a8e9-c6ea-4321-939c-2414716da862",
   "metadata": {},
   "outputs": [
    {
     "name": "stdout",
     "output_type": "stream",
     "text": [
      "<class 'pandas.core.frame.DataFrame'>\n",
      "RangeIndex: 9 entries, 0 to 8\n",
      "Data columns (total 8 columns):\n",
      " #   Column      Non-Null Count  Dtype         \n",
      "---  ------      --------------  -----         \n",
      " 0   EmployeeID  9 non-null      int64         \n",
      " 1   FullName    9 non-null      string        \n",
      " 2   Title       9 non-null      string        \n",
      " 3   HireDate    9 non-null      datetime64[ns]\n",
      " 4   City        9 non-null      string        \n",
      " 5   Region      9 non-null      string        \n",
      " 6   Country     9 non-null      string        \n",
      " 7   ReportsTo   9 non-null      int64         \n",
      "dtypes: datetime64[ns](1), int64(2), string(5)\n",
      "memory usage: 708.0 bytes\n"
     ]
    }
   ],
   "source": [
    "employees_cl.info()"
   ]
  },
  {
   "cell_type": "code",
   "execution_count": 59,
   "id": "776ab4a9-799b-4a62-b9c6-675d0ecd9bd1",
   "metadata": {},
   "outputs": [],
   "source": [
    "# Save cleaned file\n",
    "employees_cl.to_csv('cleaned/employees.csv', index=False)"
   ]
  },
  {
   "cell_type": "markdown",
   "id": "bb334b6e-5170-4cb3-aaa2-06bfccbca24c",
   "metadata": {},
   "source": [
    "## Shippers\n",
    "\n",
    "From the exploration phase, we concluded that the following actions are to be made on this table:\n",
    "> - `Phone` column to be removed\n"
   ]
  },
  {
   "cell_type": "code",
   "execution_count": 60,
   "id": "eafe0372-11e8-4310-8624-69d6e370e2ab",
   "metadata": {},
   "outputs": [],
   "source": [
    "shippers = pd.read_sql_query(\"SELECT * FROM Shippers;\", conn)\n",
    "\n",
    "shippers_cl = shippers.drop(columns=['Phone'])\n",
    "\n",
    "shippers_cl = shippers_cl.astype('string')"
   ]
  },
  {
   "cell_type": "code",
   "execution_count": 61,
   "id": "ae955cf1-efbc-493d-ae74-439cf69ff74b",
   "metadata": {},
   "outputs": [
    {
     "name": "stdout",
     "output_type": "stream",
     "text": [
      "<class 'pandas.core.frame.DataFrame'>\n",
      "RangeIndex: 3 entries, 0 to 2\n",
      "Data columns (total 2 columns):\n",
      " #   Column       Non-Null Count  Dtype \n",
      "---  ------       --------------  ----- \n",
      " 0   ShipperID    3 non-null      string\n",
      " 1   CompanyName  3 non-null      string\n",
      "dtypes: string(2)\n",
      "memory usage: 180.0 bytes\n"
     ]
    }
   ],
   "source": [
    "shippers_cl.info()"
   ]
  },
  {
   "cell_type": "code",
   "execution_count": 62,
   "id": "7026d776-d2f2-4a7e-a667-32ad77c5253b",
   "metadata": {},
   "outputs": [],
   "source": [
    "shippers_cl.to_csv('cleaned/shippers.csv', index=False)"
   ]
  }
 ],
 "metadata": {
  "kernelspec": {
   "display_name": "Python 3",
   "language": "python",
   "name": "python3"
  },
  "language_info": {
   "codemirror_mode": {
    "name": "ipython",
    "version": 3
   },
   "file_extension": ".py",
   "mimetype": "text/x-python",
   "name": "python",
   "nbconvert_exporter": "python",
   "pygments_lexer": "ipython3",
   "version": "3.13.5"
  }
 },
 "nbformat": 4,
 "nbformat_minor": 5
}
