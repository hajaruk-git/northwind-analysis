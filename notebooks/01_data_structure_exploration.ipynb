{
 "cells": [
  {
   "cell_type": "markdown",
   "id": "d3a318c7-ad99-4914-bbc3-31fffd961382",
   "metadata": {},
   "source": [
    "# Data Structure Exploration\n",
    "\n",
    "The goal of this notebook is to explore the structure of the Northwind database — including table schemas, column data types, and formatting issues — and to detect potential problems such as missing values, duplicates, or inconsistent entries.\n",
    "\n",
    "This structural analysis will guide future steps such as data cleaning, modeling, and visualization.  \n",
    "All queries and observations are documented here to ensure full traceability and reproducibility of the project.\n",
    "\n",
    "## Steps:\n",
    "\n",
    "In this notebook, we will follow a structured approach to analyze the integrity and structure of the Northwind tables:\n",
    "\n",
    "- **Load and preview data**  \n",
    "   Quick overview of table dimensions and samples\n",
    "\n",
    "- **Check for duplicated rows**  \n",
    "   Identify exact duplicates within each table\n",
    "\n",
    "- **Check for missing values**  \n",
    "   Detect null values and assess their impact\n",
    "\n",
    "- **Column uniqueness & primary key validation**  \n",
    "   Verify if identifiers are unique as expected\n",
    "\n",
    "- **Review column data types**  \n",
    "   Ensure consistency between expected and actual types\n",
    "\n",
    "- **Analyze value distributions and format issues**  \n",
    "   Spot inconsistent formats, rare categories, or outliers\n",
    "\n",
    "- **Review column relevance**  \n",
    "   Flag unnecessary or irrelevant columns for removal\n",
    "\n",
    "- **Summary and next cleaning actions**  \n",
    "   Document findings and define the data cleaning roadmap"
   ]
  },
  {
   "cell_type": "markdown",
   "id": "55be4fad-2fc9-44cd-8788-987faa936a15",
   "metadata": {},
   "source": [
    "## 1. Connecting to the SQLite database\n",
    "\n",
    "In this section, we establish a connection to the `northwind.db` file using Python's built-in `sqlite3` module.  \n",
    "This connection allows us to run SQL queries directly from the notebook and load the results into pandas DataFrames for further analysis."
   ]
  },
  {
   "cell_type": "code",
   "execution_count": 3,
   "id": "547bf65b-8e6b-4ff1-8ae3-0623d199f9a3",
   "metadata": {},
   "outputs": [
    {
     "data": {
      "text/html": [
       "<div>\n",
       "<style scoped>\n",
       "    .dataframe tbody tr th:only-of-type {\n",
       "        vertical-align: middle;\n",
       "    }\n",
       "\n",
       "    .dataframe tbody tr th {\n",
       "        vertical-align: top;\n",
       "    }\n",
       "\n",
       "    .dataframe thead th {\n",
       "        text-align: right;\n",
       "    }\n",
       "</style>\n",
       "<table border=\"1\" class=\"dataframe\">\n",
       "  <thead>\n",
       "    <tr style=\"text-align: right;\">\n",
       "      <th></th>\n",
       "      <th>name</th>\n",
       "    </tr>\n",
       "  </thead>\n",
       "  <tbody>\n",
       "    <tr>\n",
       "      <th>0</th>\n",
       "      <td>Categories</td>\n",
       "    </tr>\n",
       "    <tr>\n",
       "      <th>1</th>\n",
       "      <td>sqlite_sequence</td>\n",
       "    </tr>\n",
       "    <tr>\n",
       "      <th>2</th>\n",
       "      <td>CustomerCustomerDemo</td>\n",
       "    </tr>\n",
       "    <tr>\n",
       "      <th>3</th>\n",
       "      <td>CustomerDemographics</td>\n",
       "    </tr>\n",
       "    <tr>\n",
       "      <th>4</th>\n",
       "      <td>Customers</td>\n",
       "    </tr>\n",
       "    <tr>\n",
       "      <th>5</th>\n",
       "      <td>Employees</td>\n",
       "    </tr>\n",
       "    <tr>\n",
       "      <th>6</th>\n",
       "      <td>EmployeeTerritories</td>\n",
       "    </tr>\n",
       "    <tr>\n",
       "      <th>7</th>\n",
       "      <td>Order Details</td>\n",
       "    </tr>\n",
       "    <tr>\n",
       "      <th>8</th>\n",
       "      <td>Orders</td>\n",
       "    </tr>\n",
       "    <tr>\n",
       "      <th>9</th>\n",
       "      <td>Products</td>\n",
       "    </tr>\n",
       "    <tr>\n",
       "      <th>10</th>\n",
       "      <td>Regions</td>\n",
       "    </tr>\n",
       "    <tr>\n",
       "      <th>11</th>\n",
       "      <td>Shippers</td>\n",
       "    </tr>\n",
       "    <tr>\n",
       "      <th>12</th>\n",
       "      <td>Suppliers</td>\n",
       "    </tr>\n",
       "    <tr>\n",
       "      <th>13</th>\n",
       "      <td>Territories</td>\n",
       "    </tr>\n",
       "  </tbody>\n",
       "</table>\n",
       "</div>"
      ],
      "text/plain": [
       "                    name\n",
       "0             Categories\n",
       "1        sqlite_sequence\n",
       "2   CustomerCustomerDemo\n",
       "3   CustomerDemographics\n",
       "4              Customers\n",
       "5              Employees\n",
       "6    EmployeeTerritories\n",
       "7          Order Details\n",
       "8                 Orders\n",
       "9               Products\n",
       "10               Regions\n",
       "11              Shippers\n",
       "12             Suppliers\n",
       "13           Territories"
      ]
     },
     "execution_count": 3,
     "metadata": {},
     "output_type": "execute_result"
    }
   ],
   "source": [
    "import sqlite3\n",
    "import pandas as pd\n",
    "\n",
    "conn = sqlite3.connect(\"../data/northwind.db\")\n",
    "\n",
    "query = \"SELECT name FROM sqlite_master WHERE type='table';\"\n",
    "tables_df = pd.read_sql_query(query, conn)\n",
    "tables_df"
   ]
  },
  {
   "cell_type": "markdown",
   "id": "58180aac-3740-474f-9a43-f00c350ead7f",
   "metadata": {},
   "source": [
    "## 2. Exploring the `Categories` table\n",
    "\n",
    "We begin our table-level exploration with the `Categories` table, which contains information about the different product categories available in the database.  \n",
    "We will display its schema and preview the data."
   ]
  },
  {
   "cell_type": "code",
   "execution_count": 2,
   "id": "01eabeef-32a6-4852-b1f3-fae746c3f558",
   "metadata": {},
   "outputs": [
    {
     "data": {
      "text/plain": [
       "(8, 4)"
      ]
     },
     "execution_count": 2,
     "metadata": {},
     "output_type": "execute_result"
    }
   ],
   "source": [
    "categories = pd.read_sql_query(\"SELECT * FROM Categories;\", conn)\n",
    "categories.shape # Number of rows and columns"
   ]
  },
  {
   "cell_type": "code",
   "execution_count": 4,
   "id": "2581f80e-da79-4bf7-b75a-b5de4da0dc86",
   "metadata": {},
   "outputs": [
    {
     "data": {
      "text/html": [
       "<div>\n",
       "<style scoped>\n",
       "    .dataframe tbody tr th:only-of-type {\n",
       "        vertical-align: middle;\n",
       "    }\n",
       "\n",
       "    .dataframe tbody tr th {\n",
       "        vertical-align: top;\n",
       "    }\n",
       "\n",
       "    .dataframe thead th {\n",
       "        text-align: right;\n",
       "    }\n",
       "</style>\n",
       "<table border=\"1\" class=\"dataframe\">\n",
       "  <thead>\n",
       "    <tr style=\"text-align: right;\">\n",
       "      <th></th>\n",
       "      <th>CategoryID</th>\n",
       "      <th>CategoryName</th>\n",
       "      <th>Description</th>\n",
       "      <th>Picture</th>\n",
       "    </tr>\n",
       "  </thead>\n",
       "  <tbody>\n",
       "    <tr>\n",
       "      <th>0</th>\n",
       "      <td>1</td>\n",
       "      <td>Beverages</td>\n",
       "      <td>Soft drinks, coffees, teas, beers, and ales</td>\n",
       "      <td>b'\\xff\\xd8\\xff\\xe0\\x00\\x10JFIF\\x00\\x01\\x02\\x00...</td>\n",
       "    </tr>\n",
       "    <tr>\n",
       "      <th>1</th>\n",
       "      <td>2</td>\n",
       "      <td>Condiments</td>\n",
       "      <td>Sweet and savory sauces, relishes, spreads, an...</td>\n",
       "      <td>b'\\xff\\xd8\\xff\\xe0\\x00\\x10JFIF\\x00\\x01\\x02\\x00...</td>\n",
       "    </tr>\n",
       "    <tr>\n",
       "      <th>2</th>\n",
       "      <td>3</td>\n",
       "      <td>Confections</td>\n",
       "      <td>Desserts, candies, and sweet breads</td>\n",
       "      <td>b'\\xff\\xd8\\xff\\xe0\\x00\\x10JFIF\\x00\\x01\\x02\\x00...</td>\n",
       "    </tr>\n",
       "    <tr>\n",
       "      <th>3</th>\n",
       "      <td>4</td>\n",
       "      <td>Dairy Products</td>\n",
       "      <td>Cheeses</td>\n",
       "      <td>b'\\xff\\xd8\\xff\\xe0\\x00\\x10JFIF\\x00\\x01\\x02\\x00...</td>\n",
       "    </tr>\n",
       "    <tr>\n",
       "      <th>4</th>\n",
       "      <td>5</td>\n",
       "      <td>Grains/Cereals</td>\n",
       "      <td>Breads, crackers, pasta, and cereal</td>\n",
       "      <td>b'\\xff\\xd8\\xff\\xe0\\x00\\x10JFIF\\x00\\x01\\x02\\x00...</td>\n",
       "    </tr>\n",
       "    <tr>\n",
       "      <th>5</th>\n",
       "      <td>6</td>\n",
       "      <td>Meat/Poultry</td>\n",
       "      <td>Prepared meats</td>\n",
       "      <td>b'\\xff\\xd8\\xff\\xe0\\x00\\x10JFIF\\x00\\x01\\x02\\x00...</td>\n",
       "    </tr>\n",
       "    <tr>\n",
       "      <th>6</th>\n",
       "      <td>7</td>\n",
       "      <td>Produce</td>\n",
       "      <td>Dried fruit and bean curd</td>\n",
       "      <td>b'\\xff\\xd8\\xff\\xe0\\x00\\x10JFIF\\x00\\x01\\x02\\x00...</td>\n",
       "    </tr>\n",
       "    <tr>\n",
       "      <th>7</th>\n",
       "      <td>8</td>\n",
       "      <td>Seafood</td>\n",
       "      <td>Seaweed and fish</td>\n",
       "      <td>b'\\xff\\xd8\\xff\\xe0\\x00\\x10JFIF\\x00\\x01\\x02\\x00...</td>\n",
       "    </tr>\n",
       "  </tbody>\n",
       "</table>\n",
       "</div>"
      ],
      "text/plain": [
       "   CategoryID    CategoryName  \\\n",
       "0           1       Beverages   \n",
       "1           2      Condiments   \n",
       "2           3     Confections   \n",
       "3           4  Dairy Products   \n",
       "4           5  Grains/Cereals   \n",
       "5           6    Meat/Poultry   \n",
       "6           7         Produce   \n",
       "7           8         Seafood   \n",
       "\n",
       "                                         Description  \\\n",
       "0        Soft drinks, coffees, teas, beers, and ales   \n",
       "1  Sweet and savory sauces, relishes, spreads, an...   \n",
       "2                Desserts, candies, and sweet breads   \n",
       "3                                            Cheeses   \n",
       "4                Breads, crackers, pasta, and cereal   \n",
       "5                                     Prepared meats   \n",
       "6                          Dried fruit and bean curd   \n",
       "7                                   Seaweed and fish   \n",
       "\n",
       "                                             Picture  \n",
       "0  b'\\xff\\xd8\\xff\\xe0\\x00\\x10JFIF\\x00\\x01\\x02\\x00...  \n",
       "1  b'\\xff\\xd8\\xff\\xe0\\x00\\x10JFIF\\x00\\x01\\x02\\x00...  \n",
       "2  b'\\xff\\xd8\\xff\\xe0\\x00\\x10JFIF\\x00\\x01\\x02\\x00...  \n",
       "3  b'\\xff\\xd8\\xff\\xe0\\x00\\x10JFIF\\x00\\x01\\x02\\x00...  \n",
       "4  b'\\xff\\xd8\\xff\\xe0\\x00\\x10JFIF\\x00\\x01\\x02\\x00...  \n",
       "5  b'\\xff\\xd8\\xff\\xe0\\x00\\x10JFIF\\x00\\x01\\x02\\x00...  \n",
       "6  b'\\xff\\xd8\\xff\\xe0\\x00\\x10JFIF\\x00\\x01\\x02\\x00...  \n",
       "7  b'\\xff\\xd8\\xff\\xe0\\x00\\x10JFIF\\x00\\x01\\x02\\x00...  "
      ]
     },
     "execution_count": 4,
     "metadata": {},
     "output_type": "execute_result"
    }
   ],
   "source": [
    "categories #displays the full table"
   ]
  },
  {
   "cell_type": "code",
   "execution_count": 8,
   "id": "7ed7beb5-fc39-4ee9-a22e-8b55c24d053b",
   "metadata": {},
   "outputs": [
    {
     "name": "stdout",
     "output_type": "stream",
     "text": [
      "<class 'pandas.core.frame.DataFrame'>\n",
      "RangeIndex: 8 entries, 0 to 7\n",
      "Data columns (total 4 columns):\n",
      " #   Column        Non-Null Count  Dtype \n",
      "---  ------        --------------  ----- \n",
      " 0   CategoryID    8 non-null      int64 \n",
      " 1   CategoryName  8 non-null      object\n",
      " 2   Description   8 non-null      object\n",
      " 3   Picture       8 non-null      object\n",
      "dtypes: int64(1), object(3)\n",
      "memory usage: 388.0+ bytes\n"
     ]
    }
   ],
   "source": [
    "#check Data types\n",
    "categories.info()"
   ]
  },
  {
   "cell_type": "markdown",
   "id": "58313a05-818c-46db-8d50-184aec36ca3e",
   "metadata": {},
   "source": [
    "### Summary – Categories table\n",
    "\n",
    "- No duplicates or missing values. \n",
    "- Primary key (`CategoryID`) is unique. \n",
    "\n",
    "> **Cleaning actions:**\n",
    "> - The column (`Picture`) is irrelevant and will be dropped in the cleaning phase. \n",
    "> - `object` columns will be converted to strings for consistency. "
   ]
  },
  {
   "cell_type": "markdown",
   "id": "01bdd618-4be2-4fef-95af-89eeacf41c55",
   "metadata": {},
   "source": [
    "## 3. Exploring the `Products` table"
   ]
  },
  {
   "cell_type": "code",
   "execution_count": 4,
   "id": "9e66abee-6fc5-4735-b0ff-4e89b4954b1d",
   "metadata": {},
   "outputs": [
    {
     "data": {
      "text/plain": [
       "(77, 10)"
      ]
     },
     "execution_count": 4,
     "metadata": {},
     "output_type": "execute_result"
    }
   ],
   "source": [
    "products = pd.read_sql_query(\"SELECT * FROM Products;\", conn)\n",
    "products.shape"
   ]
  },
  {
   "cell_type": "markdown",
   "id": "a81acefa",
   "metadata": {},
   "source": [
    "Table shape: 77 rows and 10 columns."
   ]
  },
  {
   "cell_type": "code",
   "execution_count": 10,
   "id": "50ab7ac5-c965-4ad0-8bfc-fbb03f813a5f",
   "metadata": {},
   "outputs": [
    {
     "data": {
      "text/html": [
       "<div>\n",
       "<style scoped>\n",
       "    .dataframe tbody tr th:only-of-type {\n",
       "        vertical-align: middle;\n",
       "    }\n",
       "\n",
       "    .dataframe tbody tr th {\n",
       "        vertical-align: top;\n",
       "    }\n",
       "\n",
       "    .dataframe thead th {\n",
       "        text-align: right;\n",
       "    }\n",
       "</style>\n",
       "<table border=\"1\" class=\"dataframe\">\n",
       "  <thead>\n",
       "    <tr style=\"text-align: right;\">\n",
       "      <th></th>\n",
       "      <th>ProductID</th>\n",
       "      <th>ProductName</th>\n",
       "      <th>SupplierID</th>\n",
       "      <th>CategoryID</th>\n",
       "      <th>QuantityPerUnit</th>\n",
       "      <th>UnitPrice</th>\n",
       "      <th>UnitsInStock</th>\n",
       "      <th>UnitsOnOrder</th>\n",
       "      <th>ReorderLevel</th>\n",
       "      <th>Discontinued</th>\n",
       "    </tr>\n",
       "  </thead>\n",
       "  <tbody>\n",
       "    <tr>\n",
       "      <th>0</th>\n",
       "      <td>1</td>\n",
       "      <td>Chai</td>\n",
       "      <td>1</td>\n",
       "      <td>1</td>\n",
       "      <td>10 boxes x 20 bags</td>\n",
       "      <td>18.00</td>\n",
       "      <td>39</td>\n",
       "      <td>0</td>\n",
       "      <td>10</td>\n",
       "      <td>0</td>\n",
       "    </tr>\n",
       "    <tr>\n",
       "      <th>1</th>\n",
       "      <td>2</td>\n",
       "      <td>Chang</td>\n",
       "      <td>1</td>\n",
       "      <td>1</td>\n",
       "      <td>24 - 12 oz bottles</td>\n",
       "      <td>19.00</td>\n",
       "      <td>17</td>\n",
       "      <td>40</td>\n",
       "      <td>25</td>\n",
       "      <td>0</td>\n",
       "    </tr>\n",
       "    <tr>\n",
       "      <th>2</th>\n",
       "      <td>3</td>\n",
       "      <td>Aniseed Syrup</td>\n",
       "      <td>1</td>\n",
       "      <td>2</td>\n",
       "      <td>12 - 550 ml bottles</td>\n",
       "      <td>10.00</td>\n",
       "      <td>13</td>\n",
       "      <td>70</td>\n",
       "      <td>25</td>\n",
       "      <td>0</td>\n",
       "    </tr>\n",
       "    <tr>\n",
       "      <th>3</th>\n",
       "      <td>4</td>\n",
       "      <td>Chef Anton's Cajun Seasoning</td>\n",
       "      <td>2</td>\n",
       "      <td>2</td>\n",
       "      <td>48 - 6 oz jars</td>\n",
       "      <td>22.00</td>\n",
       "      <td>53</td>\n",
       "      <td>0</td>\n",
       "      <td>0</td>\n",
       "      <td>0</td>\n",
       "    </tr>\n",
       "    <tr>\n",
       "      <th>4</th>\n",
       "      <td>5</td>\n",
       "      <td>Chef Anton's Gumbo Mix</td>\n",
       "      <td>2</td>\n",
       "      <td>2</td>\n",
       "      <td>36 boxes</td>\n",
       "      <td>21.35</td>\n",
       "      <td>0</td>\n",
       "      <td>0</td>\n",
       "      <td>0</td>\n",
       "      <td>1</td>\n",
       "    </tr>\n",
       "  </tbody>\n",
       "</table>\n",
       "</div>"
      ],
      "text/plain": [
       "   ProductID                   ProductName  SupplierID  CategoryID  \\\n",
       "0          1                          Chai           1           1   \n",
       "1          2                         Chang           1           1   \n",
       "2          3                 Aniseed Syrup           1           2   \n",
       "3          4  Chef Anton's Cajun Seasoning           2           2   \n",
       "4          5        Chef Anton's Gumbo Mix           2           2   \n",
       "\n",
       "       QuantityPerUnit  UnitPrice  UnitsInStock  UnitsOnOrder  ReorderLevel  \\\n",
       "0   10 boxes x 20 bags      18.00            39             0            10   \n",
       "1   24 - 12 oz bottles      19.00            17            40            25   \n",
       "2  12 - 550 ml bottles      10.00            13            70            25   \n",
       "3       48 - 6 oz jars      22.00            53             0             0   \n",
       "4             36 boxes      21.35             0             0             0   \n",
       "\n",
       "  Discontinued  \n",
       "0            0  \n",
       "1            0  \n",
       "2            0  \n",
       "3            0  \n",
       "4            1  "
      ]
     },
     "execution_count": 10,
     "metadata": {},
     "output_type": "execute_result"
    }
   ],
   "source": [
    "products.head() #displays the first five rows"
   ]
  },
  {
   "cell_type": "code",
   "execution_count": 11,
   "id": "c777f1c9-6cf9-4060-8261-ac12f5360b0e",
   "metadata": {},
   "outputs": [
    {
     "data": {
      "text/plain": [
       "np.int64(0)"
      ]
     },
     "execution_count": 11,
     "metadata": {},
     "output_type": "execute_result"
    }
   ],
   "source": [
    "#check duplicates\n",
    "products.duplicated().sum()"
   ]
  },
  {
   "cell_type": "markdown",
   "id": "e317b70a",
   "metadata": {},
   "source": [
    "No duplicated rows detected."
   ]
  },
  {
   "cell_type": "code",
   "execution_count": 12,
   "id": "ff0e290d-9fab-4536-b859-3616d0dcd755",
   "metadata": {},
   "outputs": [
    {
     "data": {
      "text/plain": [
       "ProductID          0\n",
       "ProductName        0\n",
       "SupplierID         0\n",
       "CategoryID         0\n",
       "QuantityPerUnit    0\n",
       "UnitPrice          0\n",
       "UnitsInStock       0\n",
       "UnitsOnOrder       0\n",
       "ReorderLevel       0\n",
       "Discontinued       0\n",
       "dtype: int64"
      ]
     },
     "execution_count": 12,
     "metadata": {},
     "output_type": "execute_result"
    }
   ],
   "source": [
    "#check missing values\n",
    "products.isnull().sum()"
   ]
  },
  {
   "cell_type": "markdown",
   "id": "42922534",
   "metadata": {},
   "source": [
    "No missing values found."
   ]
  },
  {
   "cell_type": "code",
   "execution_count": 13,
   "id": "1de3e1f2-4d6f-4241-9b61-36eee7326794",
   "metadata": {},
   "outputs": [
    {
     "data": {
      "text/plain": [
       "True"
      ]
     },
     "execution_count": 13,
     "metadata": {},
     "output_type": "execute_result"
    }
   ],
   "source": [
    "#check column uniqueness for primary key\n",
    "products['ProductID'].is_unique"
   ]
  },
  {
   "cell_type": "markdown",
   "id": "8a0e22e1",
   "metadata": {},
   "source": [
    "ProductID is unique and primary key to this table."
   ]
  },
  {
   "cell_type": "code",
   "execution_count": 14,
   "id": "01d82614-2fbd-4156-81b2-72b00a412b5c",
   "metadata": {},
   "outputs": [
    {
     "data": {
      "text/plain": [
       "ProductID            int64\n",
       "ProductName         object\n",
       "SupplierID           int64\n",
       "CategoryID           int64\n",
       "QuantityPerUnit     object\n",
       "UnitPrice          float64\n",
       "UnitsInStock         int64\n",
       "UnitsOnOrder         int64\n",
       "ReorderLevel         int64\n",
       "Discontinued        object\n",
       "dtype: object"
      ]
     },
     "execution_count": 14,
     "metadata": {},
     "output_type": "execute_result"
    }
   ],
   "source": [
    "#check data types\n",
    "products.dtypes"
   ]
  },
  {
   "cell_type": "markdown",
   "id": "8f2d4c23",
   "metadata": {},
   "source": [
    "Most data types are appropriate:\n",
    "    - Discontinued is stored as `object`but should be converted to integer (binary 0/1)"
   ]
  },
  {
   "cell_type": "code",
   "execution_count": null,
   "id": "ed97ec67-9fed-4888-806c-2f251243b4c6",
   "metadata": {},
   "outputs": [
    {
     "data": {
      "text/html": [
       "<div>\n",
       "<style scoped>\n",
       "    .dataframe tbody tr th:only-of-type {\n",
       "        vertical-align: middle;\n",
       "    }\n",
       "\n",
       "    .dataframe tbody tr th {\n",
       "        vertical-align: top;\n",
       "    }\n",
       "\n",
       "    .dataframe thead th {\n",
       "        text-align: right;\n",
       "    }\n",
       "</style>\n",
       "<table border=\"1\" class=\"dataframe\">\n",
       "  <thead>\n",
       "    <tr style=\"text-align: right;\">\n",
       "      <th></th>\n",
       "      <th>ProductID</th>\n",
       "      <th>SupplierID</th>\n",
       "      <th>CategoryID</th>\n",
       "      <th>UnitPrice</th>\n",
       "      <th>UnitsInStock</th>\n",
       "      <th>UnitsOnOrder</th>\n",
       "      <th>ReorderLevel</th>\n",
       "    </tr>\n",
       "  </thead>\n",
       "  <tbody>\n",
       "    <tr>\n",
       "      <th>count</th>\n",
       "      <td>77.000000</td>\n",
       "      <td>77.000000</td>\n",
       "      <td>77.000000</td>\n",
       "      <td>77.000000</td>\n",
       "      <td>77.000000</td>\n",
       "      <td>77.000000</td>\n",
       "      <td>77.000000</td>\n",
       "    </tr>\n",
       "    <tr>\n",
       "      <th>mean</th>\n",
       "      <td>39.000000</td>\n",
       "      <td>13.649351</td>\n",
       "      <td>4.116883</td>\n",
       "      <td>28.866364</td>\n",
       "      <td>40.506494</td>\n",
       "      <td>10.129870</td>\n",
       "      <td>12.467532</td>\n",
       "    </tr>\n",
       "    <tr>\n",
       "      <th>std</th>\n",
       "      <td>22.371857</td>\n",
       "      <td>8.220267</td>\n",
       "      <td>2.395028</td>\n",
       "      <td>33.815111</td>\n",
       "      <td>36.147222</td>\n",
       "      <td>23.141072</td>\n",
       "      <td>10.931105</td>\n",
       "    </tr>\n",
       "    <tr>\n",
       "      <th>min</th>\n",
       "      <td>1.000000</td>\n",
       "      <td>1.000000</td>\n",
       "      <td>1.000000</td>\n",
       "      <td>2.500000</td>\n",
       "      <td>0.000000</td>\n",
       "      <td>0.000000</td>\n",
       "      <td>0.000000</td>\n",
       "    </tr>\n",
       "    <tr>\n",
       "      <th>25%</th>\n",
       "      <td>20.000000</td>\n",
       "      <td>7.000000</td>\n",
       "      <td>2.000000</td>\n",
       "      <td>13.250000</td>\n",
       "      <td>15.000000</td>\n",
       "      <td>0.000000</td>\n",
       "      <td>0.000000</td>\n",
       "    </tr>\n",
       "    <tr>\n",
       "      <th>50%</th>\n",
       "      <td>39.000000</td>\n",
       "      <td>13.000000</td>\n",
       "      <td>4.000000</td>\n",
       "      <td>19.500000</td>\n",
       "      <td>26.000000</td>\n",
       "      <td>0.000000</td>\n",
       "      <td>10.000000</td>\n",
       "    </tr>\n",
       "    <tr>\n",
       "      <th>75%</th>\n",
       "      <td>58.000000</td>\n",
       "      <td>20.000000</td>\n",
       "      <td>6.000000</td>\n",
       "      <td>33.250000</td>\n",
       "      <td>61.000000</td>\n",
       "      <td>0.000000</td>\n",
       "      <td>25.000000</td>\n",
       "    </tr>\n",
       "    <tr>\n",
       "      <th>max</th>\n",
       "      <td>77.000000</td>\n",
       "      <td>29.000000</td>\n",
       "      <td>8.000000</td>\n",
       "      <td>263.500000</td>\n",
       "      <td>125.000000</td>\n",
       "      <td>100.000000</td>\n",
       "      <td>30.000000</td>\n",
       "    </tr>\n",
       "  </tbody>\n",
       "</table>\n",
       "</div>"
      ],
      "text/plain": [
       "       ProductID  SupplierID  CategoryID   UnitPrice  UnitsInStock  \\\n",
       "count  77.000000   77.000000   77.000000   77.000000     77.000000   \n",
       "mean   39.000000   13.649351    4.116883   28.866364     40.506494   \n",
       "std    22.371857    8.220267    2.395028   33.815111     36.147222   \n",
       "min     1.000000    1.000000    1.000000    2.500000      0.000000   \n",
       "25%    20.000000    7.000000    2.000000   13.250000     15.000000   \n",
       "50%    39.000000   13.000000    4.000000   19.500000     26.000000   \n",
       "75%    58.000000   20.000000    6.000000   33.250000     61.000000   \n",
       "max    77.000000   29.000000    8.000000  263.500000    125.000000   \n",
       "\n",
       "       UnitsOnOrder  ReorderLevel  \n",
       "count     77.000000     77.000000  \n",
       "mean      10.129870     12.467532  \n",
       "std       23.141072     10.931105  \n",
       "min        0.000000      0.000000  \n",
       "25%        0.000000      0.000000  \n",
       "50%        0.000000     10.000000  \n",
       "75%        0.000000     25.000000  \n",
       "max      100.000000     30.000000  "
      ]
     },
     "execution_count": 18,
     "metadata": {},
     "output_type": "execute_result"
    }
   ],
   "source": [
    "# Check value distribution for numerical columns using descriptive statistics\n",
    "products.describe()"
   ]
  },
  {
   "cell_type": "markdown",
   "id": "63a815e6",
   "metadata": {},
   "source": [
    "**Data quality check:**\n",
    "\n",
    "- **UnitPrice**:\n",
    "    - Min: 2.5 | Max: 263.5 | Std: 33.8\n",
    "    - Observation: Large variance with extreme max value — potential outliers to investigate\n",
    "\n",
    "- **UnitsOnOrder**:\n",
    "    - Mean: 10.1 | Median: 0\n",
    "    - Observation: Strong right skew. Most products currently have no units on order\n",
    "\n",
    "- **ReorderLevel**:\n",
    "    - Median: 0 | Max: 30\n",
    "    - Observation: Many products have no defined reorder threshold. May require business logic clarification\n",
    "\n",
    "- No major format issues were observed in numeric fields"
   ]
  },
  {
   "cell_type": "code",
   "execution_count": 5,
   "id": "f0768168",
   "metadata": {},
   "outputs": [
    {
     "data": {
      "text/html": [
       "<div>\n",
       "<style scoped>\n",
       "    .dataframe tbody tr th:only-of-type {\n",
       "        vertical-align: middle;\n",
       "    }\n",
       "\n",
       "    .dataframe tbody tr th {\n",
       "        vertical-align: top;\n",
       "    }\n",
       "\n",
       "    .dataframe thead th {\n",
       "        text-align: right;\n",
       "    }\n",
       "</style>\n",
       "<table border=\"1\" class=\"dataframe\">\n",
       "  <thead>\n",
       "    <tr style=\"text-align: right;\">\n",
       "      <th></th>\n",
       "      <th>ProductID</th>\n",
       "      <th>ProductName</th>\n",
       "      <th>SupplierID</th>\n",
       "      <th>CategoryID</th>\n",
       "      <th>QuantityPerUnit</th>\n",
       "      <th>UnitPrice</th>\n",
       "      <th>UnitsInStock</th>\n",
       "      <th>UnitsOnOrder</th>\n",
       "      <th>ReorderLevel</th>\n",
       "      <th>Discontinued</th>\n",
       "    </tr>\n",
       "  </thead>\n",
       "  <tbody>\n",
       "    <tr>\n",
       "      <th>37</th>\n",
       "      <td>38</td>\n",
       "      <td>Côte de Blaye</td>\n",
       "      <td>18</td>\n",
       "      <td>1</td>\n",
       "      <td>12 - 75 cl bottles</td>\n",
       "      <td>263.50</td>\n",
       "      <td>17</td>\n",
       "      <td>0</td>\n",
       "      <td>15</td>\n",
       "      <td>0</td>\n",
       "    </tr>\n",
       "    <tr>\n",
       "      <th>28</th>\n",
       "      <td>29</td>\n",
       "      <td>Thüringer Rostbratwurst</td>\n",
       "      <td>12</td>\n",
       "      <td>6</td>\n",
       "      <td>50 bags x 30 sausgs.</td>\n",
       "      <td>123.79</td>\n",
       "      <td>0</td>\n",
       "      <td>0</td>\n",
       "      <td>0</td>\n",
       "      <td>1</td>\n",
       "    </tr>\n",
       "    <tr>\n",
       "      <th>8</th>\n",
       "      <td>9</td>\n",
       "      <td>Mishi Kobe Niku</td>\n",
       "      <td>4</td>\n",
       "      <td>6</td>\n",
       "      <td>18 - 500 g pkgs.</td>\n",
       "      <td>97.00</td>\n",
       "      <td>29</td>\n",
       "      <td>0</td>\n",
       "      <td>0</td>\n",
       "      <td>1</td>\n",
       "    </tr>\n",
       "    <tr>\n",
       "      <th>19</th>\n",
       "      <td>20</td>\n",
       "      <td>Sir Rodney's Marmalade</td>\n",
       "      <td>8</td>\n",
       "      <td>3</td>\n",
       "      <td>30 gift boxes</td>\n",
       "      <td>81.00</td>\n",
       "      <td>40</td>\n",
       "      <td>0</td>\n",
       "      <td>0</td>\n",
       "      <td>0</td>\n",
       "    </tr>\n",
       "    <tr>\n",
       "      <th>17</th>\n",
       "      <td>18</td>\n",
       "      <td>Carnarvon Tigers</td>\n",
       "      <td>7</td>\n",
       "      <td>8</td>\n",
       "      <td>16 kg pkg.</td>\n",
       "      <td>62.50</td>\n",
       "      <td>42</td>\n",
       "      <td>0</td>\n",
       "      <td>0</td>\n",
       "      <td>0</td>\n",
       "    </tr>\n",
       "  </tbody>\n",
       "</table>\n",
       "</div>"
      ],
      "text/plain": [
       "    ProductID              ProductName  SupplierID  CategoryID  \\\n",
       "37         38            Côte de Blaye          18           1   \n",
       "28         29  Thüringer Rostbratwurst          12           6   \n",
       "8           9          Mishi Kobe Niku           4           6   \n",
       "19         20   Sir Rodney's Marmalade           8           3   \n",
       "17         18         Carnarvon Tigers           7           8   \n",
       "\n",
       "         QuantityPerUnit  UnitPrice  UnitsInStock  UnitsOnOrder  ReorderLevel  \\\n",
       "37    12 - 75 cl bottles     263.50            17             0            15   \n",
       "28  50 bags x 30 sausgs.     123.79             0             0             0   \n",
       "8       18 - 500 g pkgs.      97.00            29             0             0   \n",
       "19         30 gift boxes      81.00            40             0             0   \n",
       "17            16 kg pkg.      62.50            42             0             0   \n",
       "\n",
       "   Discontinued  \n",
       "37            0  \n",
       "28            1  \n",
       "8             1  \n",
       "19            0  \n",
       "17            0  "
      ]
     },
     "execution_count": 5,
     "metadata": {},
     "output_type": "execute_result"
    }
   ],
   "source": [
    "#Top 5 most expensive products\n",
    "products.sort_values('UnitPrice', ascending=False).head()"
   ]
  },
  {
   "cell_type": "markdown",
   "id": "605b43ff",
   "metadata": {},
   "source": [
    "The top-priced products were manually reviewed. Their high prices are justified by the product type (e.g. fine wine, Kobe beef, bulk sausages, gift packages).  \n",
    "> No cleaning action required."
   ]
  },
  {
   "cell_type": "code",
   "execution_count": 37,
   "id": "7cb9f41d",
   "metadata": {},
   "outputs": [
    {
     "data": {
      "text/plain": [
       "np.int64(52)"
      ]
     },
     "execution_count": 37,
     "metadata": {},
     "output_type": "execute_result"
    }
   ],
   "source": [
    "# convert discontinued column to int\n",
    "products['Discontinued'] = products['Discontinued'].astype(int)\n",
    "\n",
    "# Count the number of active (non-discontinued) products that currently have no units on order\n",
    "base_condition = (products['UnitsOnOrder'] == 0) & (products['Discontinued'] == 0)\n",
    "\n",
    "base_condition.sum()"
   ]
  },
  {
   "cell_type": "code",
   "execution_count": 38,
   "id": "25434a4c",
   "metadata": {},
   "outputs": [
    {
     "name": "stdout",
     "output_type": "stream",
     "text": [
      "Number of such products: 35\n"
     ]
    }
   ],
   "source": [
    "# Filter active products (not discontinued) with no units on order,\n",
    "# where UnitsInStock > ReorderLevel and ReorderLevel is not zero\n",
    "reassess_stock = products[\n",
    "    base_condition &\n",
    "    (products['ReorderLevel'] != 0) &\n",
    "    (products['UnitsInStock'] > products['ReorderLevel'])\n",
    "]\n",
    "\n",
    "# Display count\n",
    "print(f\"Number of such products: {len(reassess_stock)}\")"
   ]
  },
  {
   "cell_type": "markdown",
   "id": "4d02a993",
   "metadata": {},
   "source": [
    "35 active products with no orders are correctly stocked above their reorder threshold and require no action."
   ]
  },
  {
   "cell_type": "code",
   "execution_count": 39,
   "id": "7549e87e",
   "metadata": {},
   "outputs": [
    {
     "name": "stdout",
     "output_type": "stream",
     "text": [
      "Active products with no reorder level: 16\n"
     ]
    },
    {
     "data": {
      "text/html": [
       "<div>\n",
       "<style scoped>\n",
       "    .dataframe tbody tr th:only-of-type {\n",
       "        vertical-align: middle;\n",
       "    }\n",
       "\n",
       "    .dataframe tbody tr th {\n",
       "        vertical-align: top;\n",
       "    }\n",
       "\n",
       "    .dataframe thead th {\n",
       "        text-align: right;\n",
       "    }\n",
       "</style>\n",
       "<table border=\"1\" class=\"dataframe\">\n",
       "  <thead>\n",
       "    <tr style=\"text-align: right;\">\n",
       "      <th></th>\n",
       "      <th>ProductID</th>\n",
       "      <th>ProductName</th>\n",
       "      <th>UnitsInStock</th>\n",
       "      <th>ReorderLevel</th>\n",
       "    </tr>\n",
       "  </thead>\n",
       "  <tbody>\n",
       "    <tr>\n",
       "      <th>3</th>\n",
       "      <td>4</td>\n",
       "      <td>Chef Anton's Cajun Seasoning</td>\n",
       "      <td>53</td>\n",
       "      <td>0</td>\n",
       "    </tr>\n",
       "    <tr>\n",
       "      <th>7</th>\n",
       "      <td>8</td>\n",
       "      <td>Northwoods Cranberry Sauce</td>\n",
       "      <td>6</td>\n",
       "      <td>0</td>\n",
       "    </tr>\n",
       "    <tr>\n",
       "      <th>9</th>\n",
       "      <td>10</td>\n",
       "      <td>Ikura</td>\n",
       "      <td>31</td>\n",
       "      <td>0</td>\n",
       "    </tr>\n",
       "    <tr>\n",
       "      <th>11</th>\n",
       "      <td>12</td>\n",
       "      <td>Queso Manchego La Pastora</td>\n",
       "      <td>86</td>\n",
       "      <td>0</td>\n",
       "    </tr>\n",
       "    <tr>\n",
       "      <th>13</th>\n",
       "      <td>14</td>\n",
       "      <td>Tofu</td>\n",
       "      <td>35</td>\n",
       "      <td>0</td>\n",
       "    </tr>\n",
       "  </tbody>\n",
       "</table>\n",
       "</div>"
      ],
      "text/plain": [
       "    ProductID                   ProductName  UnitsInStock  ReorderLevel\n",
       "3           4  Chef Anton's Cajun Seasoning            53             0\n",
       "7           8    Northwoods Cranberry Sauce             6             0\n",
       "9          10                         Ikura            31             0\n",
       "11         12     Queso Manchego La Pastora            86             0\n",
       "13         14                          Tofu            35             0"
      ]
     },
     "execution_count": 39,
     "metadata": {},
     "output_type": "execute_result"
    }
   ],
   "source": [
    "# Filter active products with 0 units on order and 0 reorderLevel\n",
    "active_no_reorders = products[\n",
    "    base_condition &\n",
    "    (products['ReorderLevel'] == 0)\n",
    "]\n",
    "\n",
    "print(f\"Active products with no reorder level: {len(active_no_reorders)}\")\n",
    "active_no_reorders[['ProductID', 'ProductName', 'UnitsInStock', 'ReorderLevel']].head()"
   ]
  },
  {
   "cell_type": "markdown",
   "id": "f0e6e2cd",
   "metadata": {},
   "source": [
    "From the result above, we can see that 16 products are active and have:\n",
    "- no units currently on order\n",
    "- no reorder level defined\n",
    "- remaining stock\n",
    "\n",
    "**What this suggests:**\n",
    "- These products are still active but not being restocked (ReorderLevel = 0)  \n",
    "- Some still have substantial stock left (e.g., 86 units), so that may explain no restocking yet  \n",
    "- However, others have low stock (e.g., 6 units), yet no reorder threshold is defined → This might represent a gap in inventory policy\n",
    "\n",
    "**Potential actions**\n",
    "- Review if these products should be phased out (but not yet marked as discontinued) \n",
    "- Or define a ReorderLevel to ensure automatic restocking before stock runs out \n",
    "- Talk to stakeholders to clarify product status and replenishment rules  "
   ]
  },
  {
   "cell_type": "code",
   "execution_count": 40,
   "id": "68f667fa",
   "metadata": {},
   "outputs": [
    {
     "name": "stdout",
     "output_type": "stream",
     "text": [
      "Number of at-risk products: 1\n"
     ]
    },
    {
     "data": {
      "text/html": [
       "<div>\n",
       "<style scoped>\n",
       "    .dataframe tbody tr th:only-of-type {\n",
       "        vertical-align: middle;\n",
       "    }\n",
       "\n",
       "    .dataframe tbody tr th {\n",
       "        vertical-align: top;\n",
       "    }\n",
       "\n",
       "    .dataframe thead th {\n",
       "        text-align: right;\n",
       "    }\n",
       "</style>\n",
       "<table border=\"1\" class=\"dataframe\">\n",
       "  <thead>\n",
       "    <tr style=\"text-align: right;\">\n",
       "      <th></th>\n",
       "      <th>ProductID</th>\n",
       "      <th>ProductName</th>\n",
       "      <th>UnitPrice</th>\n",
       "      <th>UnitsInStock</th>\n",
       "      <th>ReorderLevel</th>\n",
       "    </tr>\n",
       "  </thead>\n",
       "  <tbody>\n",
       "    <tr>\n",
       "      <th>29</th>\n",
       "      <td>30</td>\n",
       "      <td>Nord-Ost Matjeshering</td>\n",
       "      <td>25.89</td>\n",
       "      <td>10</td>\n",
       "      <td>15</td>\n",
       "    </tr>\n",
       "  </tbody>\n",
       "</table>\n",
       "</div>"
      ],
      "text/plain": [
       "    ProductID            ProductName  UnitPrice  UnitsInStock  ReorderLevel\n",
       "29         30  Nord-Ost Matjeshering      25.89            10            15"
      ]
     },
     "execution_count": 40,
     "metadata": {},
     "output_type": "execute_result"
    }
   ],
   "source": [
    "# Identify at-risk active products with no units on order and stock below reorder level\n",
    "at_risk_products = products[\n",
    "    base_condition &\n",
    "    (products['UnitsInStock'] < products['ReorderLevel'])\n",
    "]\n",
    "\n",
    "# Display the count and the products\n",
    "print(f\"Number of at-risk products: {len(at_risk_products)}\")\n",
    "at_risk_products[['ProductID', 'ProductName', 'UnitPrice', 'UnitsInStock', 'ReorderLevel']]"
   ]
  },
  {
   "cell_type": "markdown",
   "id": "641636ff",
   "metadata": {},
   "source": [
    "- One active product is below its reorder threshold with no incoming stock — it should be restocked soon to avoid a stockout."
   ]
  },
  {
   "cell_type": "markdown",
   "id": "e97a45df",
   "metadata": {},
   "source": [
    "### Summary - Product table\n",
    "Table is strucurally clean (no nulls or duplicates)\n",
    "\n",
    "> **Cleaning actions:**  \n",
    "> - Convert `Discontinued` to integer and `ProductName`to string for consistency\n",
    "\n",
    "> **Data quality check:**  \n",
    "> - There are 16 active products with no reorder level:  \n",
    "    - Review if these products should be phased out (but not yet marked as discontinued)  \n",
    "    - Or define a ReorderLevel to ensure automatic restocking before stock runs out  \n",
    "    - Talk to stakeholders to clarify product status and replenishment rules  \n",
    "> - There is 1 at-risk product, meaning with no units on order and stock below reorder level:  \n",
    "    - Should be restocked to avoid stockout."
   ]
  },
  {
   "cell_type": "markdown",
   "id": "c822814b",
   "metadata": {},
   "source": [
    "## 4. Exploring the `Order Details` table"
   ]
  },
  {
   "cell_type": "code",
   "execution_count": 42,
   "id": "b647e635",
   "metadata": {},
   "outputs": [
    {
     "data": {
      "text/plain": [
       "(609283, 5)"
      ]
     },
     "execution_count": 42,
     "metadata": {},
     "output_type": "execute_result"
    }
   ],
   "source": [
    "order_details = pd.read_sql_query('SELECT * FROM \"Order Details\";', conn)\n",
    "order_details.shape"
   ]
  },
  {
   "cell_type": "markdown",
   "id": "b6b4c669",
   "metadata": {},
   "source": [
    "Table shape: 609,283 rows and 5 columns"
   ]
  },
  {
   "cell_type": "code",
   "execution_count": 5,
   "id": "f78729ea",
   "metadata": {},
   "outputs": [
    {
     "data": {
      "text/html": [
       "<div>\n",
       "<style scoped>\n",
       "    .dataframe tbody tr th:only-of-type {\n",
       "        vertical-align: middle;\n",
       "    }\n",
       "\n",
       "    .dataframe tbody tr th {\n",
       "        vertical-align: top;\n",
       "    }\n",
       "\n",
       "    .dataframe thead th {\n",
       "        text-align: right;\n",
       "    }\n",
       "</style>\n",
       "<table border=\"1\" class=\"dataframe\">\n",
       "  <thead>\n",
       "    <tr style=\"text-align: right;\">\n",
       "      <th></th>\n",
       "      <th>OrderID</th>\n",
       "      <th>ProductID</th>\n",
       "      <th>UnitPrice</th>\n",
       "      <th>Quantity</th>\n",
       "      <th>Discount</th>\n",
       "    </tr>\n",
       "  </thead>\n",
       "  <tbody>\n",
       "    <tr>\n",
       "      <th>0</th>\n",
       "      <td>10248</td>\n",
       "      <td>11</td>\n",
       "      <td>14.0</td>\n",
       "      <td>12</td>\n",
       "      <td>0.0</td>\n",
       "    </tr>\n",
       "    <tr>\n",
       "      <th>1</th>\n",
       "      <td>10248</td>\n",
       "      <td>42</td>\n",
       "      <td>9.8</td>\n",
       "      <td>10</td>\n",
       "      <td>0.0</td>\n",
       "    </tr>\n",
       "    <tr>\n",
       "      <th>2</th>\n",
       "      <td>10248</td>\n",
       "      <td>72</td>\n",
       "      <td>34.8</td>\n",
       "      <td>5</td>\n",
       "      <td>0.0</td>\n",
       "    </tr>\n",
       "    <tr>\n",
       "      <th>3</th>\n",
       "      <td>10249</td>\n",
       "      <td>14</td>\n",
       "      <td>18.6</td>\n",
       "      <td>9</td>\n",
       "      <td>0.0</td>\n",
       "    </tr>\n",
       "    <tr>\n",
       "      <th>4</th>\n",
       "      <td>10249</td>\n",
       "      <td>51</td>\n",
       "      <td>42.4</td>\n",
       "      <td>40</td>\n",
       "      <td>0.0</td>\n",
       "    </tr>\n",
       "  </tbody>\n",
       "</table>\n",
       "</div>"
      ],
      "text/plain": [
       "   OrderID  ProductID  UnitPrice  Quantity  Discount\n",
       "0    10248         11       14.0        12       0.0\n",
       "1    10248         42        9.8        10       0.0\n",
       "2    10248         72       34.8         5       0.0\n",
       "3    10249         14       18.6         9       0.0\n",
       "4    10249         51       42.4        40       0.0"
      ]
     },
     "execution_count": 5,
     "metadata": {},
     "output_type": "execute_result"
    }
   ],
   "source": [
    "order_details.head()"
   ]
  },
  {
   "cell_type": "code",
   "execution_count": 6,
   "id": "5ead74c7",
   "metadata": {},
   "outputs": [
    {
     "data": {
      "text/plain": [
       "np.int64(0)"
      ]
     },
     "execution_count": 6,
     "metadata": {},
     "output_type": "execute_result"
    }
   ],
   "source": [
    "#check duplicates\n",
    "order_details.duplicated().sum()"
   ]
  },
  {
   "cell_type": "markdown",
   "id": "f9ff5980",
   "metadata": {},
   "source": [
    "No duplicated rows."
   ]
  },
  {
   "cell_type": "code",
   "execution_count": 7,
   "id": "218ba496",
   "metadata": {},
   "outputs": [
    {
     "data": {
      "text/plain": [
       "OrderID      0\n",
       "ProductID    0\n",
       "UnitPrice    0\n",
       "Quantity     0\n",
       "Discount     0\n",
       "dtype: int64"
      ]
     },
     "execution_count": 7,
     "metadata": {},
     "output_type": "execute_result"
    }
   ],
   "source": [
    "#check missing values\n",
    "order_details.isnull().sum()"
   ]
  },
  {
   "cell_type": "markdown",
   "id": "d1306d49",
   "metadata": {},
   "source": [
    "No missing values found"
   ]
  },
  {
   "cell_type": "code",
   "execution_count": 8,
   "id": "65460dda",
   "metadata": {},
   "outputs": [
    {
     "data": {
      "text/plain": [
       "False"
      ]
     },
     "execution_count": 8,
     "metadata": {},
     "output_type": "execute_result"
    }
   ],
   "source": [
    "#check column uniqueness for primary key\n",
    "order_details['OrderID'].is_unique"
   ]
  },
  {
   "cell_type": "markdown",
   "id": "d44a2a92",
   "metadata": {},
   "source": [
    "OrderID` is **not unique**, as a single order can contain multiple products"
   ]
  },
  {
   "cell_type": "code",
   "execution_count": 9,
   "id": "1409b7e8",
   "metadata": {},
   "outputs": [
    {
     "data": {
      "text/plain": [
       "OrderID        int64\n",
       "ProductID      int64\n",
       "UnitPrice    float64\n",
       "Quantity       int64\n",
       "Discount     float64\n",
       "dtype: object"
      ]
     },
     "execution_count": 9,
     "metadata": {},
     "output_type": "execute_result"
    }
   ],
   "source": [
    "#check data types\n",
    "order_details.dtypes"
   ]
  },
  {
   "cell_type": "markdown",
   "id": "b6518d41",
   "metadata": {},
   "source": [
    "Data types are appropriate"
   ]
  },
  {
   "cell_type": "code",
   "execution_count": 10,
   "id": "457d7aca",
   "metadata": {},
   "outputs": [
    {
     "data": {
      "text/html": [
       "<div>\n",
       "<style scoped>\n",
       "    .dataframe tbody tr th:only-of-type {\n",
       "        vertical-align: middle;\n",
       "    }\n",
       "\n",
       "    .dataframe tbody tr th {\n",
       "        vertical-align: top;\n",
       "    }\n",
       "\n",
       "    .dataframe thead th {\n",
       "        text-align: right;\n",
       "    }\n",
       "</style>\n",
       "<table border=\"1\" class=\"dataframe\">\n",
       "  <thead>\n",
       "    <tr style=\"text-align: right;\">\n",
       "      <th></th>\n",
       "      <th>OrderID</th>\n",
       "      <th>ProductID</th>\n",
       "      <th>UnitPrice</th>\n",
       "      <th>Quantity</th>\n",
       "      <th>Discount</th>\n",
       "    </tr>\n",
       "  </thead>\n",
       "  <tbody>\n",
       "    <tr>\n",
       "      <th>count</th>\n",
       "      <td>609283.000000</td>\n",
       "      <td>609283.000000</td>\n",
       "      <td>609283.000000</td>\n",
       "      <td>609283.000000</td>\n",
       "      <td>609283.000000</td>\n",
       "    </tr>\n",
       "    <tr>\n",
       "      <th>mean</th>\n",
       "      <td>18785.560685</td>\n",
       "      <td>38.999563</td>\n",
       "      <td>28.850379</td>\n",
       "      <td>25.503095</td>\n",
       "      <td>0.000199</td>\n",
       "    </tr>\n",
       "    <tr>\n",
       "      <th>std</th>\n",
       "      <td>4484.093759</td>\n",
       "      <td>22.229827</td>\n",
       "      <td>33.565470</td>\n",
       "      <td>14.453939</td>\n",
       "      <td>0.005978</td>\n",
       "    </tr>\n",
       "    <tr>\n",
       "      <th>min</th>\n",
       "      <td>10248.000000</td>\n",
       "      <td>1.000000</td>\n",
       "      <td>2.000000</td>\n",
       "      <td>1.000000</td>\n",
       "      <td>0.000000</td>\n",
       "    </tr>\n",
       "    <tr>\n",
       "      <th>25%</th>\n",
       "      <td>14907.000000</td>\n",
       "      <td>20.000000</td>\n",
       "      <td>13.250000</td>\n",
       "      <td>13.000000</td>\n",
       "      <td>0.000000</td>\n",
       "    </tr>\n",
       "    <tr>\n",
       "      <th>50%</th>\n",
       "      <td>18789.000000</td>\n",
       "      <td>39.000000</td>\n",
       "      <td>19.500000</td>\n",
       "      <td>25.000000</td>\n",
       "      <td>0.000000</td>\n",
       "    </tr>\n",
       "    <tr>\n",
       "      <th>75%</th>\n",
       "      <td>22681.000000</td>\n",
       "      <td>58.000000</td>\n",
       "      <td>33.250000</td>\n",
       "      <td>38.000000</td>\n",
       "      <td>0.000000</td>\n",
       "    </tr>\n",
       "    <tr>\n",
       "      <th>max</th>\n",
       "      <td>26529.000000</td>\n",
       "      <td>77.000000</td>\n",
       "      <td>263.500000</td>\n",
       "      <td>130.000000</td>\n",
       "      <td>0.250000</td>\n",
       "    </tr>\n",
       "  </tbody>\n",
       "</table>\n",
       "</div>"
      ],
      "text/plain": [
       "             OrderID      ProductID      UnitPrice       Quantity  \\\n",
       "count  609283.000000  609283.000000  609283.000000  609283.000000   \n",
       "mean    18785.560685      38.999563      28.850379      25.503095   \n",
       "std      4484.093759      22.229827      33.565470      14.453939   \n",
       "min     10248.000000       1.000000       2.000000       1.000000   \n",
       "25%     14907.000000      20.000000      13.250000      13.000000   \n",
       "50%     18789.000000      39.000000      19.500000      25.000000   \n",
       "75%     22681.000000      58.000000      33.250000      38.000000   \n",
       "max     26529.000000      77.000000     263.500000     130.000000   \n",
       "\n",
       "            Discount  \n",
       "count  609283.000000  \n",
       "mean        0.000199  \n",
       "std         0.005978  \n",
       "min         0.000000  \n",
       "25%         0.000000  \n",
       "50%         0.000000  \n",
       "75%         0.000000  \n",
       "max         0.250000  "
      ]
     },
     "execution_count": 10,
     "metadata": {},
     "output_type": "execute_result"
    }
   ],
   "source": [
    "# Check value distribution for numerical columns using descriptive statistics\n",
    "order_details.describe()"
   ]
  },
  {
   "cell_type": "markdown",
   "id": "fe4884fa",
   "metadata": {},
   "source": [
    "**Data quality check:**\n",
    "\n",
    "**Quantity**:  \n",
    "    - Min: 1 | Max: 130 | Mean: 25.50  \n",
    "    - Observation: Most values are between 14 and 38. Quantity of 130 is unusually high and may need investigation  "
   ]
  },
  {
   "cell_type": "code",
   "execution_count": 47,
   "id": "00a04a61",
   "metadata": {},
   "outputs": [
    {
     "data": {
      "text/html": [
       "<div>\n",
       "<style scoped>\n",
       "    .dataframe tbody tr th:only-of-type {\n",
       "        vertical-align: middle;\n",
       "    }\n",
       "\n",
       "    .dataframe tbody tr th {\n",
       "        vertical-align: top;\n",
       "    }\n",
       "\n",
       "    .dataframe thead th {\n",
       "        text-align: right;\n",
       "    }\n",
       "</style>\n",
       "<table border=\"1\" class=\"dataframe\">\n",
       "  <thead>\n",
       "    <tr style=\"text-align: right;\">\n",
       "      <th></th>\n",
       "      <th>OrderID</th>\n",
       "      <th>ProductID</th>\n",
       "      <th>UnitPrice</th>\n",
       "      <th>Quantity</th>\n",
       "      <th>Discount</th>\n",
       "    </tr>\n",
       "  </thead>\n",
       "  <tbody>\n",
       "    <tr>\n",
       "      <th>1363</th>\n",
       "      <td>10764</td>\n",
       "      <td>39</td>\n",
       "      <td>18.00</td>\n",
       "      <td>130</td>\n",
       "      <td>0.10</td>\n",
       "    </tr>\n",
       "    <tr>\n",
       "      <th>2120</th>\n",
       "      <td>11072</td>\n",
       "      <td>64</td>\n",
       "      <td>33.25</td>\n",
       "      <td>130</td>\n",
       "      <td>0.00</td>\n",
       "    </tr>\n",
       "    <tr>\n",
       "      <th>1221</th>\n",
       "      <td>10711</td>\n",
       "      <td>53</td>\n",
       "      <td>32.80</td>\n",
       "      <td>120</td>\n",
       "      <td>0.00</td>\n",
       "    </tr>\n",
       "    <tr>\n",
       "      <th>1691</th>\n",
       "      <td>10894</td>\n",
       "      <td>75</td>\n",
       "      <td>7.75</td>\n",
       "      <td>120</td>\n",
       "      <td>0.05</td>\n",
       "    </tr>\n",
       "    <tr>\n",
       "      <th>703</th>\n",
       "      <td>10515</td>\n",
       "      <td>27</td>\n",
       "      <td>43.90</td>\n",
       "      <td>120</td>\n",
       "      <td>0.00</td>\n",
       "    </tr>\n",
       "  </tbody>\n",
       "</table>\n",
       "</div>"
      ],
      "text/plain": [
       "      OrderID  ProductID  UnitPrice  Quantity  Discount\n",
       "1363    10764         39      18.00       130      0.10\n",
       "2120    11072         64      33.25       130      0.00\n",
       "1221    10711         53      32.80       120      0.00\n",
       "1691    10894         75       7.75       120      0.05\n",
       "703     10515         27      43.90       120      0.00"
      ]
     },
     "execution_count": 47,
     "metadata": {},
     "output_type": "execute_result"
    }
   ],
   "source": [
    "order_details.sort_values('Quantity', ascending=False).head(5)"
   ]
  },
  {
   "cell_type": "markdown",
   "id": "6a3205a6",
   "metadata": {},
   "source": [
    "No issue here — the highest quantities (120–130 units) are repeated across several orders and look legitimate."
   ]
  },
  {
   "cell_type": "markdown",
   "id": "3253f467",
   "metadata": {},
   "source": [
    "### Summary – Order Details table\n",
    "\n",
    "Table is structurally clean:  \n",
    "- No missing values  \n",
    "- No duplicates  \n",
    "- Appropriate data types  \n",
    "\n",
    "`OrderID` is **not unique**, as expected: one order can include multiple products."
   ]
  },
  {
   "cell_type": "markdown",
   "id": "60ba2309",
   "metadata": {},
   "source": [
    "## 5. Exploring the `Orders` table"
   ]
  },
  {
   "cell_type": "code",
   "execution_count": 49,
   "id": "53b47390",
   "metadata": {},
   "outputs": [
    {
     "data": {
      "text/plain": [
       "(16282, 14)"
      ]
     },
     "execution_count": 49,
     "metadata": {},
     "output_type": "execute_result"
    }
   ],
   "source": [
    "orders = pd.read_sql_query('SELECT * FROM Orders;', conn)\n",
    "orders.shape"
   ]
  },
  {
   "cell_type": "markdown",
   "id": "586c70ad",
   "metadata": {},
   "source": [
    "Table shape: 16,282 rows and 14 columns"
   ]
  },
  {
   "cell_type": "code",
   "execution_count": 13,
   "id": "8714f74f",
   "metadata": {},
   "outputs": [
    {
     "data": {
      "text/html": [
       "<div>\n",
       "<style scoped>\n",
       "    .dataframe tbody tr th:only-of-type {\n",
       "        vertical-align: middle;\n",
       "    }\n",
       "\n",
       "    .dataframe tbody tr th {\n",
       "        vertical-align: top;\n",
       "    }\n",
       "\n",
       "    .dataframe thead th {\n",
       "        text-align: right;\n",
       "    }\n",
       "</style>\n",
       "<table border=\"1\" class=\"dataframe\">\n",
       "  <thead>\n",
       "    <tr style=\"text-align: right;\">\n",
       "      <th></th>\n",
       "      <th>OrderID</th>\n",
       "      <th>CustomerID</th>\n",
       "      <th>EmployeeID</th>\n",
       "      <th>OrderDate</th>\n",
       "      <th>RequiredDate</th>\n",
       "      <th>ShippedDate</th>\n",
       "      <th>ShipVia</th>\n",
       "      <th>Freight</th>\n",
       "      <th>ShipName</th>\n",
       "      <th>ShipAddress</th>\n",
       "      <th>ShipCity</th>\n",
       "      <th>ShipRegion</th>\n",
       "      <th>ShipPostalCode</th>\n",
       "      <th>ShipCountry</th>\n",
       "    </tr>\n",
       "  </thead>\n",
       "  <tbody>\n",
       "    <tr>\n",
       "      <th>0</th>\n",
       "      <td>10248</td>\n",
       "      <td>VINET</td>\n",
       "      <td>5</td>\n",
       "      <td>2016-07-04</td>\n",
       "      <td>2016-08-01</td>\n",
       "      <td>2016-07-16</td>\n",
       "      <td>3</td>\n",
       "      <td>16.75</td>\n",
       "      <td>Vins et alcools Chevalier</td>\n",
       "      <td>59 rue de l-Abbaye</td>\n",
       "      <td>Reims</td>\n",
       "      <td>Western Europe</td>\n",
       "      <td>51100</td>\n",
       "      <td>France</td>\n",
       "    </tr>\n",
       "    <tr>\n",
       "      <th>1</th>\n",
       "      <td>10249</td>\n",
       "      <td>TOMSP</td>\n",
       "      <td>6</td>\n",
       "      <td>2016-07-05</td>\n",
       "      <td>2016-08-16</td>\n",
       "      <td>2016-07-10</td>\n",
       "      <td>1</td>\n",
       "      <td>22.25</td>\n",
       "      <td>Toms Spezialitäten</td>\n",
       "      <td>Luisenstr. 48</td>\n",
       "      <td>Münster</td>\n",
       "      <td>Western Europe</td>\n",
       "      <td>44087</td>\n",
       "      <td>Germany</td>\n",
       "    </tr>\n",
       "    <tr>\n",
       "      <th>2</th>\n",
       "      <td>10250</td>\n",
       "      <td>HANAR</td>\n",
       "      <td>4</td>\n",
       "      <td>2016-07-08</td>\n",
       "      <td>2016-08-05</td>\n",
       "      <td>2016-07-12</td>\n",
       "      <td>2</td>\n",
       "      <td>25.00</td>\n",
       "      <td>Hanari Carnes</td>\n",
       "      <td>Rua do Paço, 67</td>\n",
       "      <td>Rio de Janeiro</td>\n",
       "      <td>South America</td>\n",
       "      <td>05454-876</td>\n",
       "      <td>Brazil</td>\n",
       "    </tr>\n",
       "    <tr>\n",
       "      <th>3</th>\n",
       "      <td>10251</td>\n",
       "      <td>VICTE</td>\n",
       "      <td>3</td>\n",
       "      <td>2016-07-08</td>\n",
       "      <td>2016-08-05</td>\n",
       "      <td>2016-07-15</td>\n",
       "      <td>1</td>\n",
       "      <td>20.25</td>\n",
       "      <td>Victuailles en stock</td>\n",
       "      <td>2, rue du Commerce</td>\n",
       "      <td>Lyon</td>\n",
       "      <td>Western Europe</td>\n",
       "      <td>69004</td>\n",
       "      <td>France</td>\n",
       "    </tr>\n",
       "    <tr>\n",
       "      <th>4</th>\n",
       "      <td>10252</td>\n",
       "      <td>SUPRD</td>\n",
       "      <td>4</td>\n",
       "      <td>2016-07-09</td>\n",
       "      <td>2016-08-06</td>\n",
       "      <td>2016-07-11</td>\n",
       "      <td>2</td>\n",
       "      <td>36.25</td>\n",
       "      <td>Suprêmes délices</td>\n",
       "      <td>Boulevard Tirou, 255</td>\n",
       "      <td>Charleroi</td>\n",
       "      <td>Western Europe</td>\n",
       "      <td>B-6000</td>\n",
       "      <td>Belgium</td>\n",
       "    </tr>\n",
       "  </tbody>\n",
       "</table>\n",
       "</div>"
      ],
      "text/plain": [
       "   OrderID CustomerID  EmployeeID   OrderDate RequiredDate ShippedDate  \\\n",
       "0    10248      VINET           5  2016-07-04   2016-08-01  2016-07-16   \n",
       "1    10249      TOMSP           6  2016-07-05   2016-08-16  2016-07-10   \n",
       "2    10250      HANAR           4  2016-07-08   2016-08-05  2016-07-12   \n",
       "3    10251      VICTE           3  2016-07-08   2016-08-05  2016-07-15   \n",
       "4    10252      SUPRD           4  2016-07-09   2016-08-06  2016-07-11   \n",
       "\n",
       "   ShipVia  Freight                   ShipName           ShipAddress  \\\n",
       "0        3    16.75  Vins et alcools Chevalier    59 rue de l-Abbaye   \n",
       "1        1    22.25         Toms Spezialitäten         Luisenstr. 48   \n",
       "2        2    25.00              Hanari Carnes       Rua do Paço, 67   \n",
       "3        1    20.25       Victuailles en stock    2, rue du Commerce   \n",
       "4        2    36.25           Suprêmes délices  Boulevard Tirou, 255   \n",
       "\n",
       "         ShipCity      ShipRegion ShipPostalCode ShipCountry  \n",
       "0           Reims  Western Europe          51100      France  \n",
       "1         Münster  Western Europe          44087     Germany  \n",
       "2  Rio de Janeiro   South America      05454-876      Brazil  \n",
       "3            Lyon  Western Europe          69004      France  \n",
       "4       Charleroi  Western Europe         B-6000     Belgium  "
      ]
     },
     "execution_count": 13,
     "metadata": {},
     "output_type": "execute_result"
    }
   ],
   "source": [
    "orders.head()"
   ]
  },
  {
   "cell_type": "code",
   "execution_count": 14,
   "id": "90323c5e",
   "metadata": {},
   "outputs": [
    {
     "data": {
      "text/plain": [
       "np.int64(0)"
      ]
     },
     "execution_count": 14,
     "metadata": {},
     "output_type": "execute_result"
    }
   ],
   "source": [
    "#check duplicated\n",
    "orders.duplicated().sum()"
   ]
  },
  {
   "cell_type": "markdown",
   "id": "87e269d3",
   "metadata": {},
   "source": [
    "No duplicated rows"
   ]
  },
  {
   "cell_type": "code",
   "execution_count": 15,
   "id": "0e3f9ca6",
   "metadata": {},
   "outputs": [
    {
     "data": {
      "text/plain": [
       "OrderID             0\n",
       "CustomerID          0\n",
       "EmployeeID          0\n",
       "OrderDate           0\n",
       "RequiredDate        0\n",
       "ShippedDate        21\n",
       "ShipVia             0\n",
       "Freight             0\n",
       "ShipName            0\n",
       "ShipAddress         0\n",
       "ShipCity            0\n",
       "ShipRegion          0\n",
       "ShipPostalCode    172\n",
       "ShipCountry         0\n",
       "dtype: int64"
      ]
     },
     "execution_count": 15,
     "metadata": {},
     "output_type": "execute_result"
    }
   ],
   "source": [
    "#check missing values\n",
    "orders.isnull().sum()"
   ]
  },
  {
   "cell_type": "markdown",
   "id": "f8517324",
   "metadata": {},
   "source": [
    "- ShippedDate: 21 missing values. These likely correspond to orders not yet shipped (e.g., pending or canceled). This column is relevant and should be kept, but missing values may require specific handling depending on the analysis.  \n",
    "- ShipPostal Code: 172 missing values. This column is irrelevant to our analysis and will be removed. For geographic analysis, we can use city, region and country."
   ]
  },
  {
   "cell_type": "code",
   "execution_count": 18,
   "id": "9ffc373a",
   "metadata": {},
   "outputs": [
    {
     "data": {
      "text/plain": [
       "True"
      ]
     },
     "execution_count": 18,
     "metadata": {},
     "output_type": "execute_result"
    }
   ],
   "source": [
    "#check column uniqueness for primary key\n",
    "orders['OrderID'].is_unique"
   ]
  },
  {
   "cell_type": "markdown",
   "id": "ec6bfa4e",
   "metadata": {},
   "source": [
    "OrderID is unique and primary key to this table."
   ]
  },
  {
   "cell_type": "code",
   "execution_count": 19,
   "id": "d41f33cd",
   "metadata": {},
   "outputs": [
    {
     "data": {
      "text/plain": [
       "OrderID             int64\n",
       "CustomerID         object\n",
       "EmployeeID          int64\n",
       "OrderDate          object\n",
       "RequiredDate       object\n",
       "ShippedDate        object\n",
       "ShipVia             int64\n",
       "Freight           float64\n",
       "ShipName           object\n",
       "ShipAddress        object\n",
       "ShipCity           object\n",
       "ShipRegion         object\n",
       "ShipPostalCode     object\n",
       "ShipCountry        object\n",
       "dtype: object"
      ]
     },
     "execution_count": 19,
     "metadata": {},
     "output_type": "execute_result"
    }
   ],
   "source": [
    "#check data types\n",
    "orders.dtypes"
   ]
  },
  {
   "cell_type": "markdown",
   "id": "202df1ee",
   "metadata": {},
   "source": [
    "- These columns have appropriate types: `OrderID`, `EmployeeID`, `Freight`, `ShipVia`.\n",
    "- The following columns are stored as `object` and should be explicitly converted:\n",
    "    - `CustomerID` → string (alphanumeric identifier)\n",
    "    - `OrderDate`, `RequiredDate`, `ShippedDate` → datetime\n",
    "    - `ShipName`, `ShipCity`, `ShipRegion`, `ShipCountry` → string (text data)\n",
    "- These conversions will improve data handling for filtering, grouping, and time-based operations."
   ]
  },
  {
   "cell_type": "code",
   "execution_count": null,
   "id": "443836bb",
   "metadata": {},
   "outputs": [
    {
     "data": {
      "text/html": [
       "<div>\n",
       "<style scoped>\n",
       "    .dataframe tbody tr th:only-of-type {\n",
       "        vertical-align: middle;\n",
       "    }\n",
       "\n",
       "    .dataframe tbody tr th {\n",
       "        vertical-align: top;\n",
       "    }\n",
       "\n",
       "    .dataframe thead th {\n",
       "        text-align: right;\n",
       "    }\n",
       "</style>\n",
       "<table border=\"1\" class=\"dataframe\">\n",
       "  <thead>\n",
       "    <tr style=\"text-align: right;\">\n",
       "      <th></th>\n",
       "      <th>OrderID</th>\n",
       "      <th>EmployeeID</th>\n",
       "      <th>ShipVia</th>\n",
       "      <th>Freight</th>\n",
       "    </tr>\n",
       "  </thead>\n",
       "  <tbody>\n",
       "    <tr>\n",
       "      <th>count</th>\n",
       "      <td>16282.000000</td>\n",
       "      <td>16282.000000</td>\n",
       "      <td>16282.000000</td>\n",
       "      <td>16282.000000</td>\n",
       "    </tr>\n",
       "    <tr>\n",
       "      <th>mean</th>\n",
       "      <td>18388.500000</td>\n",
       "      <td>4.968861</td>\n",
       "      <td>2.007739</td>\n",
       "      <td>248.585585</td>\n",
       "    </tr>\n",
       "    <tr>\n",
       "      <th>std</th>\n",
       "      <td>4700.352877</td>\n",
       "      <td>2.576741</td>\n",
       "      <td>0.814275</td>\n",
       "      <td>148.978822</td>\n",
       "    </tr>\n",
       "    <tr>\n",
       "      <th>min</th>\n",
       "      <td>10248.000000</td>\n",
       "      <td>1.000000</td>\n",
       "      <td>1.000000</td>\n",
       "      <td>10.250000</td>\n",
       "    </tr>\n",
       "    <tr>\n",
       "      <th>25%</th>\n",
       "      <td>14318.250000</td>\n",
       "      <td>3.000000</td>\n",
       "      <td>1.000000</td>\n",
       "      <td>117.250000</td>\n",
       "    </tr>\n",
       "    <tr>\n",
       "      <th>50%</th>\n",
       "      <td>18388.500000</td>\n",
       "      <td>5.000000</td>\n",
       "      <td>2.000000</td>\n",
       "      <td>245.250000</td>\n",
       "    </tr>\n",
       "    <tr>\n",
       "      <th>75%</th>\n",
       "      <td>22458.750000</td>\n",
       "      <td>7.000000</td>\n",
       "      <td>3.000000</td>\n",
       "      <td>377.250000</td>\n",
       "    </tr>\n",
       "    <tr>\n",
       "      <th>max</th>\n",
       "      <td>26529.000000</td>\n",
       "      <td>9.000000</td>\n",
       "      <td>3.000000</td>\n",
       "      <td>587.000000</td>\n",
       "    </tr>\n",
       "  </tbody>\n",
       "</table>\n",
       "</div>"
      ],
      "text/plain": [
       "            OrderID    EmployeeID       ShipVia       Freight\n",
       "count  16282.000000  16282.000000  16282.000000  16282.000000\n",
       "mean   18388.500000      4.968861      2.007739    248.585585\n",
       "std     4700.352877      2.576741      0.814275    148.978822\n",
       "min    10248.000000      1.000000      1.000000     10.250000\n",
       "25%    14318.250000      3.000000      1.000000    117.250000\n",
       "50%    18388.500000      5.000000      2.000000    245.250000\n",
       "75%    22458.750000      7.000000      3.000000    377.250000\n",
       "max    26529.000000      9.000000      3.000000    587.000000"
      ]
     },
     "execution_count": 22,
     "metadata": {},
     "output_type": "execute_result"
    }
   ],
   "source": [
    "# Check value distribution for numerical columns using descriptive statistics\n",
    "orders.describe()"
   ]
  },
  {
   "cell_type": "code",
   "execution_count": 25,
   "id": "0a86444b",
   "metadata": {},
   "outputs": [
    {
     "data": {
      "text/html": [
       "<div>\n",
       "<style scoped>\n",
       "    .dataframe tbody tr th:only-of-type {\n",
       "        vertical-align: middle;\n",
       "    }\n",
       "\n",
       "    .dataframe tbody tr th {\n",
       "        vertical-align: top;\n",
       "    }\n",
       "\n",
       "    .dataframe thead th {\n",
       "        text-align: right;\n",
       "    }\n",
       "</style>\n",
       "<table border=\"1\" class=\"dataframe\">\n",
       "  <thead>\n",
       "    <tr style=\"text-align: right;\">\n",
       "      <th></th>\n",
       "      <th>OrderDate</th>\n",
       "      <th>RequiredDate</th>\n",
       "      <th>ShippedDate</th>\n",
       "    </tr>\n",
       "  </thead>\n",
       "  <tbody>\n",
       "    <tr>\n",
       "      <th>count</th>\n",
       "      <td>16282</td>\n",
       "      <td>16282</td>\n",
       "      <td>16261</td>\n",
       "    </tr>\n",
       "    <tr>\n",
       "      <th>mean</th>\n",
       "      <td>2018-02-22 23:35:38.544036352</td>\n",
       "      <td>2018-03-14 02:43:24.552020480</td>\n",
       "      <td>2018-03-02 17:47:56.761453824</td>\n",
       "    </tr>\n",
       "    <tr>\n",
       "      <th>min</th>\n",
       "      <td>2012-07-10 15:40:46</td>\n",
       "      <td>2012-07-12 11:00:21</td>\n",
       "      <td>2012-07-13 21:20:47</td>\n",
       "    </tr>\n",
       "    <tr>\n",
       "      <th>25%</th>\n",
       "      <td>2015-07-09 16:32:16</td>\n",
       "      <td>2015-07-28 09:21:39.750000128</td>\n",
       "      <td>2015-07-14 22:48:26</td>\n",
       "    </tr>\n",
       "    <tr>\n",
       "      <th>50%</th>\n",
       "      <td>2018-01-09 00:00:00</td>\n",
       "      <td>2018-01-29 10:37:28.500000</td>\n",
       "      <td>2018-01-15 00:00:00</td>\n",
       "    </tr>\n",
       "    <tr>\n",
       "      <th>75%</th>\n",
       "      <td>2020-11-17 08:13:09.249999872</td>\n",
       "      <td>2020-12-06 19:41:10.750000128</td>\n",
       "      <td>2020-11-26 16:42:39</td>\n",
       "    </tr>\n",
       "    <tr>\n",
       "      <th>max</th>\n",
       "      <td>2023-10-28 00:09:48</td>\n",
       "      <td>2023-12-14 23:09:18</td>\n",
       "      <td>2023-11-19 02:55:24</td>\n",
       "    </tr>\n",
       "  </tbody>\n",
       "</table>\n",
       "</div>"
      ],
      "text/plain": [
       "                           OrderDate                   RequiredDate  \\\n",
       "count                          16282                          16282   \n",
       "mean   2018-02-22 23:35:38.544036352  2018-03-14 02:43:24.552020480   \n",
       "min              2012-07-10 15:40:46            2012-07-12 11:00:21   \n",
       "25%              2015-07-09 16:32:16  2015-07-28 09:21:39.750000128   \n",
       "50%              2018-01-09 00:00:00     2018-01-29 10:37:28.500000   \n",
       "75%    2020-11-17 08:13:09.249999872  2020-12-06 19:41:10.750000128   \n",
       "max              2023-10-28 00:09:48            2023-12-14 23:09:18   \n",
       "\n",
       "                         ShippedDate  \n",
       "count                          16261  \n",
       "mean   2018-03-02 17:47:56.761453824  \n",
       "min              2012-07-13 21:20:47  \n",
       "25%              2015-07-14 22:48:26  \n",
       "50%              2018-01-15 00:00:00  \n",
       "75%              2020-11-26 16:42:39  \n",
       "max              2023-11-19 02:55:24  "
      ]
     },
     "execution_count": 25,
     "metadata": {},
     "output_type": "execute_result"
    }
   ],
   "source": [
    "#convert date columns to datetime to describe them as well\n",
    "orders['OrderDate'] = pd.to_datetime(orders['OrderDate'], format='mixed')\n",
    "orders['RequiredDate'] = pd.to_datetime(orders['RequiredDate'], format='mixed')\n",
    "orders['ShippedDate'] = pd.to_datetime(orders['ShippedDate'], format='mixed')\n",
    "\n",
    "orders[['OrderDate', 'RequiredDate', 'ShippedDate']].describe()"
   ]
  },
  {
   "cell_type": "markdown",
   "id": "a8717a3e",
   "metadata": {},
   "source": [
    "- Orders span from mid-2012 to late 2023, indicating over 11 years of historical data\n",
    "- No issues detected."
   ]
  },
  {
   "cell_type": "markdown",
   "id": "771fdb7e",
   "metadata": {},
   "source": [
    "### Summary – Orders table\n",
    "\n",
    "Table is generally clean and well-structured:\n",
    "- No duplicated rows\n",
    "- `OrderID` is unique and acts as primary key\n",
    "- Missing values in only two columns:\n",
    "  - `ShippedDate`: 21 missing, likely pending or canceled orders → to be kept\n",
    "  - `ShipPostalCode`: 172 missing, irrelevant to our analysis → will be removed\n",
    "\n",
    "> **Cleaning actions:**\n",
    "> - Drop the columns `ShipAddress` and `ShipPostalCode` due to irrelevance and missing data\n",
    "> - Convert `OrderDate`, `RequiredDate`, `ShippedDate` to datetime\n",
    "> - Convert `CustomerID`, `ShipName`, `ShipCity`, `ShipRegion`, `ShipCountry` to string\n",
    "\n",
    "> **Data quality check:**  \n",
    "> - Keep missing `ShippedDate` values for now; handle later in Power Query if needed"
   ]
  },
  {
   "cell_type": "markdown",
   "id": "2e8fab25",
   "metadata": {},
   "source": [
    "## 6. Exploring the `Customers` table"
   ]
  },
  {
   "cell_type": "code",
   "execution_count": 26,
   "id": "ef872b5a",
   "metadata": {},
   "outputs": [
    {
     "data": {
      "text/plain": [
       "(93, 11)"
      ]
     },
     "execution_count": 26,
     "metadata": {},
     "output_type": "execute_result"
    }
   ],
   "source": [
    "customers = pd.read_sql_query(\"SELECT * FROM Customers;\", conn)\n",
    "customers.shape"
   ]
  },
  {
   "cell_type": "markdown",
   "id": "69c27027",
   "metadata": {},
   "source": [
    "Table shape: 93 rows and 11 columns"
   ]
  },
  {
   "cell_type": "code",
   "execution_count": 27,
   "id": "f457a175",
   "metadata": {},
   "outputs": [
    {
     "data": {
      "text/html": [
       "<div>\n",
       "<style scoped>\n",
       "    .dataframe tbody tr th:only-of-type {\n",
       "        vertical-align: middle;\n",
       "    }\n",
       "\n",
       "    .dataframe tbody tr th {\n",
       "        vertical-align: top;\n",
       "    }\n",
       "\n",
       "    .dataframe thead th {\n",
       "        text-align: right;\n",
       "    }\n",
       "</style>\n",
       "<table border=\"1\" class=\"dataframe\">\n",
       "  <thead>\n",
       "    <tr style=\"text-align: right;\">\n",
       "      <th></th>\n",
       "      <th>CustomerID</th>\n",
       "      <th>CompanyName</th>\n",
       "      <th>ContactName</th>\n",
       "      <th>ContactTitle</th>\n",
       "      <th>Address</th>\n",
       "      <th>City</th>\n",
       "      <th>Region</th>\n",
       "      <th>PostalCode</th>\n",
       "      <th>Country</th>\n",
       "      <th>Phone</th>\n",
       "      <th>Fax</th>\n",
       "    </tr>\n",
       "  </thead>\n",
       "  <tbody>\n",
       "    <tr>\n",
       "      <th>0</th>\n",
       "      <td>ALFKI</td>\n",
       "      <td>Alfreds Futterkiste</td>\n",
       "      <td>Maria Anders</td>\n",
       "      <td>Sales Representative</td>\n",
       "      <td>Obere Str. 57</td>\n",
       "      <td>Berlin</td>\n",
       "      <td>Western Europe</td>\n",
       "      <td>12209</td>\n",
       "      <td>Germany</td>\n",
       "      <td>030-0074321</td>\n",
       "      <td>030-0076545</td>\n",
       "    </tr>\n",
       "    <tr>\n",
       "      <th>1</th>\n",
       "      <td>ANATR</td>\n",
       "      <td>Ana Trujillo Emparedados y helados</td>\n",
       "      <td>Ana Trujillo</td>\n",
       "      <td>Owner</td>\n",
       "      <td>Avda. de la Constitución 2222</td>\n",
       "      <td>México D.F.</td>\n",
       "      <td>Central America</td>\n",
       "      <td>05021</td>\n",
       "      <td>Mexico</td>\n",
       "      <td>(5) 555-4729</td>\n",
       "      <td>(5) 555-3745</td>\n",
       "    </tr>\n",
       "    <tr>\n",
       "      <th>2</th>\n",
       "      <td>ANTON</td>\n",
       "      <td>Antonio Moreno Taquería</td>\n",
       "      <td>Antonio Moreno</td>\n",
       "      <td>Owner</td>\n",
       "      <td>Mataderos  2312</td>\n",
       "      <td>México D.F.</td>\n",
       "      <td>Central America</td>\n",
       "      <td>05023</td>\n",
       "      <td>Mexico</td>\n",
       "      <td>(5) 555-3932</td>\n",
       "      <td>None</td>\n",
       "    </tr>\n",
       "    <tr>\n",
       "      <th>3</th>\n",
       "      <td>AROUT</td>\n",
       "      <td>Around the Horn</td>\n",
       "      <td>Thomas Hardy</td>\n",
       "      <td>Sales Representative</td>\n",
       "      <td>120 Hanover Sq.</td>\n",
       "      <td>London</td>\n",
       "      <td>British Isles</td>\n",
       "      <td>WA1 1DP</td>\n",
       "      <td>UK</td>\n",
       "      <td>(171) 555-7788</td>\n",
       "      <td>(171) 555-6750</td>\n",
       "    </tr>\n",
       "    <tr>\n",
       "      <th>4</th>\n",
       "      <td>BERGS</td>\n",
       "      <td>Berglunds snabbköp</td>\n",
       "      <td>Christina Berglund</td>\n",
       "      <td>Order Administrator</td>\n",
       "      <td>Berguvsvägen  8</td>\n",
       "      <td>Luleå</td>\n",
       "      <td>Northern Europe</td>\n",
       "      <td>S-958 22</td>\n",
       "      <td>Sweden</td>\n",
       "      <td>0921-12 34 65</td>\n",
       "      <td>0921-12 34 67</td>\n",
       "    </tr>\n",
       "  </tbody>\n",
       "</table>\n",
       "</div>"
      ],
      "text/plain": [
       "  CustomerID                         CompanyName         ContactName  \\\n",
       "0      ALFKI                 Alfreds Futterkiste        Maria Anders   \n",
       "1      ANATR  Ana Trujillo Emparedados y helados        Ana Trujillo   \n",
       "2      ANTON             Antonio Moreno Taquería      Antonio Moreno   \n",
       "3      AROUT                     Around the Horn        Thomas Hardy   \n",
       "4      BERGS                  Berglunds snabbköp  Christina Berglund   \n",
       "\n",
       "           ContactTitle                        Address         City  \\\n",
       "0  Sales Representative                  Obere Str. 57       Berlin   \n",
       "1                 Owner  Avda. de la Constitución 2222  México D.F.   \n",
       "2                 Owner                Mataderos  2312  México D.F.   \n",
       "3  Sales Representative                120 Hanover Sq.       London   \n",
       "4   Order Administrator                Berguvsvägen  8        Luleå   \n",
       "\n",
       "            Region PostalCode  Country           Phone             Fax  \n",
       "0   Western Europe      12209  Germany     030-0074321     030-0076545  \n",
       "1  Central America      05021   Mexico    (5) 555-4729    (5) 555-3745  \n",
       "2  Central America      05023   Mexico    (5) 555-3932            None  \n",
       "3    British Isles    WA1 1DP       UK  (171) 555-7788  (171) 555-6750  \n",
       "4  Northern Europe   S-958 22   Sweden   0921-12 34 65   0921-12 34 67  "
      ]
     },
     "execution_count": 27,
     "metadata": {},
     "output_type": "execute_result"
    }
   ],
   "source": [
    "customers.head()"
   ]
  },
  {
   "cell_type": "code",
   "execution_count": 28,
   "id": "e5590c7b",
   "metadata": {},
   "outputs": [
    {
     "data": {
      "text/plain": [
       "np.int64(0)"
      ]
     },
     "execution_count": 28,
     "metadata": {},
     "output_type": "execute_result"
    }
   ],
   "source": [
    "#check duplicated\n",
    "customers.duplicated().sum()"
   ]
  },
  {
   "cell_type": "markdown",
   "id": "ecaea954",
   "metadata": {},
   "source": [
    "No duplicated rows"
   ]
  },
  {
   "cell_type": "code",
   "execution_count": 29,
   "id": "cb1d5c22",
   "metadata": {},
   "outputs": [
    {
     "data": {
      "text/plain": [
       "CustomerID       0\n",
       "CompanyName      0\n",
       "ContactName      0\n",
       "ContactTitle     0\n",
       "Address          2\n",
       "City             2\n",
       "Region           2\n",
       "PostalCode       3\n",
       "Country          2\n",
       "Phone            2\n",
       "Fax             24\n",
       "dtype: int64"
      ]
     },
     "execution_count": 29,
     "metadata": {},
     "output_type": "execute_result"
    }
   ],
   "source": [
    "#check missing values\n",
    "customers.isnull().sum()"
   ]
  },
  {
   "cell_type": "markdown",
   "id": "28cf5f8b",
   "metadata": {},
   "source": [
    "- Minor missing values found in address-related fields, likely negligible\n",
    "- Fax column will be removed"
   ]
  },
  {
   "cell_type": "code",
   "execution_count": 30,
   "id": "f43150d6",
   "metadata": {},
   "outputs": [
    {
     "data": {
      "text/plain": [
       "True"
      ]
     },
     "execution_count": 30,
     "metadata": {},
     "output_type": "execute_result"
    }
   ],
   "source": [
    "#check column uniqueness for primary key\n",
    "customers['CustomerID'].is_unique"
   ]
  },
  {
   "cell_type": "markdown",
   "id": "a2caf7e2",
   "metadata": {},
   "source": [
    "CustomerID is unique and serves as the primary key of this table. The Northwind database contains 93 customers in total."
   ]
  },
  {
   "cell_type": "code",
   "execution_count": 31,
   "id": "3350e395",
   "metadata": {},
   "outputs": [
    {
     "data": {
      "text/plain": [
       "CustomerID      object\n",
       "CompanyName     object\n",
       "ContactName     object\n",
       "ContactTitle    object\n",
       "Address         object\n",
       "City            object\n",
       "Region          object\n",
       "PostalCode      object\n",
       "Country         object\n",
       "Phone           object\n",
       "Fax             object\n",
       "dtype: object"
      ]
     },
     "execution_count": 31,
     "metadata": {},
     "output_type": "execute_result"
    }
   ],
   "source": [
    "#check data types\n",
    "customers.dtypes"
   ]
  },
  {
   "cell_type": "markdown",
   "id": "2a48fd4f",
   "metadata": {},
   "source": [
    "- All columns will be converted to `string`"
   ]
  },
  {
   "cell_type": "markdown",
   "id": "f57342a3",
   "metadata": {},
   "source": [
    "### Summary – Customers table\n",
    "\n",
    "Table is generally clean and ready for use:  \n",
    "- No duplicated rows  \n",
    "- `CustomerID` is unique → serves as the **primary key**  \n",
    "- Minor missing values in address-related fields (`Address`, `City`, `Region`, `PostalCode`, `Country`, `Phone`)  \n",
    "\n",
    "> **Cleaning actions:**\n",
    "> - Drop the `Address`, `PostalCode`, `Phone` and `Fax` columns (many missing values, not useful)  \n",
    "> - Convert all columns to `string` for consistency and Power BI compatibility  \n",
    "> - Replace missing values in `City`, `Region`, and `Country` with `'Unknown'` to avoid nulls in Power BI"
   ]
  },
  {
   "cell_type": "markdown",
   "id": "639bc2d8",
   "metadata": {},
   "source": [
    "## 7. Exploring the `Suppliers` table"
   ]
  },
  {
   "cell_type": "code",
   "execution_count": 33,
   "id": "1935ca81",
   "metadata": {},
   "outputs": [
    {
     "data": {
      "text/plain": [
       "(29, 12)"
      ]
     },
     "execution_count": 33,
     "metadata": {},
     "output_type": "execute_result"
    }
   ],
   "source": [
    "suppliers = pd.read_sql_query(\"SELECT * FROM Suppliers;\", conn)\n",
    "suppliers.shape"
   ]
  },
  {
   "cell_type": "markdown",
   "id": "dc953c8d",
   "metadata": {},
   "source": [
    "Table shape: 29 rows and 12 columns"
   ]
  },
  {
   "cell_type": "code",
   "execution_count": 34,
   "id": "0c79c4af",
   "metadata": {},
   "outputs": [
    {
     "data": {
      "text/html": [
       "<div>\n",
       "<style scoped>\n",
       "    .dataframe tbody tr th:only-of-type {\n",
       "        vertical-align: middle;\n",
       "    }\n",
       "\n",
       "    .dataframe tbody tr th {\n",
       "        vertical-align: top;\n",
       "    }\n",
       "\n",
       "    .dataframe thead th {\n",
       "        text-align: right;\n",
       "    }\n",
       "</style>\n",
       "<table border=\"1\" class=\"dataframe\">\n",
       "  <thead>\n",
       "    <tr style=\"text-align: right;\">\n",
       "      <th></th>\n",
       "      <th>SupplierID</th>\n",
       "      <th>CompanyName</th>\n",
       "      <th>ContactName</th>\n",
       "      <th>ContactTitle</th>\n",
       "      <th>Address</th>\n",
       "      <th>City</th>\n",
       "      <th>Region</th>\n",
       "      <th>PostalCode</th>\n",
       "      <th>Country</th>\n",
       "      <th>Phone</th>\n",
       "      <th>Fax</th>\n",
       "      <th>HomePage</th>\n",
       "    </tr>\n",
       "  </thead>\n",
       "  <tbody>\n",
       "    <tr>\n",
       "      <th>0</th>\n",
       "      <td>1</td>\n",
       "      <td>Exotic Liquids</td>\n",
       "      <td>Charlotte Cooper</td>\n",
       "      <td>Purchasing Manager</td>\n",
       "      <td>49 Gilbert St.</td>\n",
       "      <td>London</td>\n",
       "      <td>British Isles</td>\n",
       "      <td>EC1 4SD</td>\n",
       "      <td>UK</td>\n",
       "      <td>(171) 555-2222</td>\n",
       "      <td>None</td>\n",
       "      <td>None</td>\n",
       "    </tr>\n",
       "    <tr>\n",
       "      <th>1</th>\n",
       "      <td>2</td>\n",
       "      <td>New Orleans Cajun Delights</td>\n",
       "      <td>Shelley Burke</td>\n",
       "      <td>Order Administrator</td>\n",
       "      <td>P.O. Box 78934</td>\n",
       "      <td>New Orleans</td>\n",
       "      <td>North America</td>\n",
       "      <td>70117</td>\n",
       "      <td>USA</td>\n",
       "      <td>(100) 555-4822</td>\n",
       "      <td>None</td>\n",
       "      <td>#CAJUN.HTM#</td>\n",
       "    </tr>\n",
       "    <tr>\n",
       "      <th>2</th>\n",
       "      <td>3</td>\n",
       "      <td>Grandma Kelly's Homestead</td>\n",
       "      <td>Regina Murphy</td>\n",
       "      <td>Sales Representative</td>\n",
       "      <td>707 Oxford Rd.</td>\n",
       "      <td>Ann Arbor</td>\n",
       "      <td>North America</td>\n",
       "      <td>48104</td>\n",
       "      <td>USA</td>\n",
       "      <td>(313) 555-5735</td>\n",
       "      <td>(313) 555-3349</td>\n",
       "      <td>None</td>\n",
       "    </tr>\n",
       "    <tr>\n",
       "      <th>3</th>\n",
       "      <td>4</td>\n",
       "      <td>Tokyo Traders</td>\n",
       "      <td>Yoshi Nagase</td>\n",
       "      <td>Marketing Manager</td>\n",
       "      <td>9-8 Sekimai\\nMusashino-shi</td>\n",
       "      <td>Tokyo</td>\n",
       "      <td>Eastern Asia</td>\n",
       "      <td>100</td>\n",
       "      <td>Japan</td>\n",
       "      <td>(03) 3555-5011</td>\n",
       "      <td>None</td>\n",
       "      <td>None</td>\n",
       "    </tr>\n",
       "    <tr>\n",
       "      <th>4</th>\n",
       "      <td>5</td>\n",
       "      <td>Cooperativa de Quesos 'Las Cabras'</td>\n",
       "      <td>Antonio del Valle Saavedra</td>\n",
       "      <td>Export Administrator</td>\n",
       "      <td>Calle del Rosal 4</td>\n",
       "      <td>Oviedo</td>\n",
       "      <td>Southern Europe</td>\n",
       "      <td>33007</td>\n",
       "      <td>Spain</td>\n",
       "      <td>(98) 598 76 54</td>\n",
       "      <td>None</td>\n",
       "      <td>None</td>\n",
       "    </tr>\n",
       "  </tbody>\n",
       "</table>\n",
       "</div>"
      ],
      "text/plain": [
       "   SupplierID                         CompanyName  \\\n",
       "0           1                      Exotic Liquids   \n",
       "1           2          New Orleans Cajun Delights   \n",
       "2           3           Grandma Kelly's Homestead   \n",
       "3           4                       Tokyo Traders   \n",
       "4           5  Cooperativa de Quesos 'Las Cabras'   \n",
       "\n",
       "                   ContactName          ContactTitle  \\\n",
       "0             Charlotte Cooper    Purchasing Manager   \n",
       "1                Shelley Burke   Order Administrator   \n",
       "2                Regina Murphy  Sales Representative   \n",
       "3                 Yoshi Nagase     Marketing Manager   \n",
       "4  Antonio del Valle Saavedra   Export Administrator   \n",
       "\n",
       "                      Address         City           Region PostalCode  \\\n",
       "0              49 Gilbert St.       London    British Isles    EC1 4SD   \n",
       "1              P.O. Box 78934  New Orleans    North America      70117   \n",
       "2              707 Oxford Rd.    Ann Arbor    North America      48104   \n",
       "3  9-8 Sekimai\\nMusashino-shi        Tokyo     Eastern Asia        100   \n",
       "4           Calle del Rosal 4       Oviedo  Southern Europe      33007   \n",
       "\n",
       "  Country           Phone             Fax     HomePage  \n",
       "0      UK  (171) 555-2222            None         None  \n",
       "1     USA  (100) 555-4822            None  #CAJUN.HTM#  \n",
       "2     USA  (313) 555-5735  (313) 555-3349         None  \n",
       "3   Japan  (03) 3555-5011            None         None  \n",
       "4   Spain  (98) 598 76 54            None         None  "
      ]
     },
     "execution_count": 34,
     "metadata": {},
     "output_type": "execute_result"
    }
   ],
   "source": [
    "suppliers.head()"
   ]
  },
  {
   "cell_type": "code",
   "execution_count": 36,
   "id": "b0bdd717",
   "metadata": {},
   "outputs": [
    {
     "data": {
      "text/plain": [
       "np.int64(0)"
      ]
     },
     "execution_count": 36,
     "metadata": {},
     "output_type": "execute_result"
    }
   ],
   "source": [
    "suppliers.duplicated().sum()"
   ]
  },
  {
   "cell_type": "markdown",
   "id": "f51d0e4b",
   "metadata": {},
   "source": [
    "No duplicated rows"
   ]
  },
  {
   "cell_type": "code",
   "execution_count": 37,
   "id": "dba602c1",
   "metadata": {},
   "outputs": [
    {
     "data": {
      "text/plain": [
       "SupplierID       0\n",
       "CompanyName      0\n",
       "ContactName      0\n",
       "ContactTitle     0\n",
       "Address          0\n",
       "City             0\n",
       "Region           1\n",
       "PostalCode       0\n",
       "Country          0\n",
       "Phone            0\n",
       "Fax             16\n",
       "HomePage        24\n",
       "dtype: int64"
      ]
     },
     "execution_count": 37,
     "metadata": {},
     "output_type": "execute_result"
    }
   ],
   "source": [
    "suppliers.isnull().sum()"
   ]
  },
  {
   "cell_type": "markdown",
   "id": "fa9edc5e",
   "metadata": {},
   "source": [
    "- One missing value in `Region`, likely negligible  (consider replacing with 'unkown' if used for group analysis)\n",
    "- Missing values in `Fax` and `HomePage` columns. These are not useful for our analysis, so they will be removed"
   ]
  },
  {
   "cell_type": "code",
   "execution_count": 38,
   "id": "cfd4574d",
   "metadata": {},
   "outputs": [
    {
     "data": {
      "text/plain": [
       "True"
      ]
     },
     "execution_count": 38,
     "metadata": {},
     "output_type": "execute_result"
    }
   ],
   "source": [
    "suppliers['SupplierID'].is_unique"
   ]
  },
  {
   "cell_type": "markdown",
   "id": "8641935c",
   "metadata": {},
   "source": [
    "SupplierID is unique and serves as the primary key of this table. The Northwind database contains 29 suppliers in total."
   ]
  },
  {
   "cell_type": "code",
   "execution_count": 39,
   "id": "584c35c1",
   "metadata": {},
   "outputs": [
    {
     "data": {
      "text/plain": [
       "SupplierID       int64\n",
       "CompanyName     object\n",
       "ContactName     object\n",
       "ContactTitle    object\n",
       "Address         object\n",
       "City            object\n",
       "Region          object\n",
       "PostalCode      object\n",
       "Country         object\n",
       "Phone           object\n",
       "Fax             object\n",
       "HomePage        object\n",
       "dtype: object"
      ]
     },
     "execution_count": 39,
     "metadata": {},
     "output_type": "execute_result"
    }
   ],
   "source": [
    "suppliers.dtypes"
   ]
  },
  {
   "cell_type": "markdown",
   "id": "556164cb",
   "metadata": {},
   "source": [
    "All `object` columns will be converted to `string` for consistency"
   ]
  },
  {
   "cell_type": "markdown",
   "id": "da15ce3b",
   "metadata": {},
   "source": [
    "### Summary – Suppliers table\n",
    "\n",
    "Table is generally clean and ready for use:  \n",
    "- No duplicated rows  \n",
    "- `SupplierID` is unique → serves as the **primary key**  \n",
    "- One missing value in `Region` (likely negligible)  \n",
    "- Several missing values in `Fax` and `HomePage`  \n",
    "\n",
    "> **Cleaning actions:**\n",
    "> - Drop the `Address`, `PostalCode`, `Phone`, `Fax` and `HomePage` columns (not useful)\n",
    "> - Convert all columns to `string` for consistency and Power BI compatibility  \n",
    "> - Replace missing `Region` with `'Unknown'`"
   ]
  },
  {
   "cell_type": "markdown",
   "id": "4eef0f02",
   "metadata": {},
   "source": [
    "## 8. Exploring the `Employees` table"
   ]
  },
  {
   "cell_type": "code",
   "execution_count": 40,
   "id": "fc3eae7f",
   "metadata": {},
   "outputs": [
    {
     "data": {
      "text/plain": [
       "(9, 18)"
      ]
     },
     "execution_count": 40,
     "metadata": {},
     "output_type": "execute_result"
    }
   ],
   "source": [
    "employees = pd.read_sql_query(\"SELECT * FROM Employees;\", conn)\n",
    "employees.shape"
   ]
  },
  {
   "cell_type": "markdown",
   "id": "82833686",
   "metadata": {},
   "source": [
    "Table shape: 9 rows and 18 columns"
   ]
  },
  {
   "cell_type": "code",
   "execution_count": 41,
   "id": "8690af38",
   "metadata": {},
   "outputs": [
    {
     "data": {
      "text/html": [
       "<div>\n",
       "<style scoped>\n",
       "    .dataframe tbody tr th:only-of-type {\n",
       "        vertical-align: middle;\n",
       "    }\n",
       "\n",
       "    .dataframe tbody tr th {\n",
       "        vertical-align: top;\n",
       "    }\n",
       "\n",
       "    .dataframe thead th {\n",
       "        text-align: right;\n",
       "    }\n",
       "</style>\n",
       "<table border=\"1\" class=\"dataframe\">\n",
       "  <thead>\n",
       "    <tr style=\"text-align: right;\">\n",
       "      <th></th>\n",
       "      <th>EmployeeID</th>\n",
       "      <th>LastName</th>\n",
       "      <th>FirstName</th>\n",
       "      <th>Title</th>\n",
       "      <th>TitleOfCourtesy</th>\n",
       "      <th>BirthDate</th>\n",
       "      <th>HireDate</th>\n",
       "      <th>Address</th>\n",
       "      <th>City</th>\n",
       "      <th>Region</th>\n",
       "      <th>PostalCode</th>\n",
       "      <th>Country</th>\n",
       "      <th>HomePhone</th>\n",
       "      <th>Extension</th>\n",
       "      <th>Photo</th>\n",
       "      <th>Notes</th>\n",
       "      <th>ReportsTo</th>\n",
       "      <th>PhotoPath</th>\n",
       "    </tr>\n",
       "  </thead>\n",
       "  <tbody>\n",
       "    <tr>\n",
       "      <th>0</th>\n",
       "      <td>1</td>\n",
       "      <td>Davolio</td>\n",
       "      <td>Nancy</td>\n",
       "      <td>Sales Representative</td>\n",
       "      <td>Ms.</td>\n",
       "      <td>1968-12-08</td>\n",
       "      <td>2012-05-01</td>\n",
       "      <td>507 - 20th Ave. E.Apt. 2A</td>\n",
       "      <td>Seattle</td>\n",
       "      <td>North America</td>\n",
       "      <td>98122</td>\n",
       "      <td>USA</td>\n",
       "      <td>(206) 555-9857</td>\n",
       "      <td>5467</td>\n",
       "      <td>b'\\xff\\xd8\\xff\\xe0\\x00\\x10JFIF\\x00\\x01\\x02\\x00...</td>\n",
       "      <td>Education includes a BA in psychology from Col...</td>\n",
       "      <td>2.0</td>\n",
       "      <td>http://accweb/emmployees/davolio.bmp</td>\n",
       "    </tr>\n",
       "    <tr>\n",
       "      <th>1</th>\n",
       "      <td>2</td>\n",
       "      <td>Fuller</td>\n",
       "      <td>Andrew</td>\n",
       "      <td>Vice President, Sales</td>\n",
       "      <td>Dr.</td>\n",
       "      <td>1972-02-19</td>\n",
       "      <td>2012-08-14</td>\n",
       "      <td>908 W. Capital Way</td>\n",
       "      <td>Tacoma</td>\n",
       "      <td>North America</td>\n",
       "      <td>98401</td>\n",
       "      <td>USA</td>\n",
       "      <td>(206) 555-9482</td>\n",
       "      <td>3457</td>\n",
       "      <td>b'\\xff\\xd8\\xff\\xe0\\x00\\x10JFIF\\x00\\x01\\x02\\x00...</td>\n",
       "      <td>Andrew received his BTS commercial in 1974 and...</td>\n",
       "      <td>NaN</td>\n",
       "      <td>http://accweb/emmployees/fuller.bmp</td>\n",
       "    </tr>\n",
       "    <tr>\n",
       "      <th>2</th>\n",
       "      <td>3</td>\n",
       "      <td>Leverling</td>\n",
       "      <td>Janet</td>\n",
       "      <td>Sales Representative</td>\n",
       "      <td>Ms.</td>\n",
       "      <td>1983-08-30</td>\n",
       "      <td>2012-04-01</td>\n",
       "      <td>722 Moss Bay Blvd.</td>\n",
       "      <td>Kirkland</td>\n",
       "      <td>North America</td>\n",
       "      <td>98033</td>\n",
       "      <td>USA</td>\n",
       "      <td>(206) 555-3412</td>\n",
       "      <td>3355</td>\n",
       "      <td>b'\\xff\\xd8\\xff\\xe0\\x00\\x10JFIF\\x00\\x01\\x02\\x00...</td>\n",
       "      <td>Janet has a BS degree in chemistry from Boston...</td>\n",
       "      <td>2.0</td>\n",
       "      <td>http://accweb/emmployees/leverling.bmp</td>\n",
       "    </tr>\n",
       "    <tr>\n",
       "      <th>3</th>\n",
       "      <td>4</td>\n",
       "      <td>Peacock</td>\n",
       "      <td>Margaret</td>\n",
       "      <td>Sales Representative</td>\n",
       "      <td>Mrs.</td>\n",
       "      <td>1957-09-19</td>\n",
       "      <td>2013-05-03</td>\n",
       "      <td>4110 Old Redmond Rd.</td>\n",
       "      <td>Redmond</td>\n",
       "      <td>North America</td>\n",
       "      <td>98052</td>\n",
       "      <td>USA</td>\n",
       "      <td>(206) 555-8122</td>\n",
       "      <td>5176</td>\n",
       "      <td>b'\\xff\\xd8\\xff\\xe0\\x00\\x10JFIF\\x00\\x01\\x02\\x00...</td>\n",
       "      <td>Margaret holds a BA in English literature from...</td>\n",
       "      <td>2.0</td>\n",
       "      <td>http://accweb/emmployees/peacock.bmp</td>\n",
       "    </tr>\n",
       "    <tr>\n",
       "      <th>4</th>\n",
       "      <td>5</td>\n",
       "      <td>Buchanan</td>\n",
       "      <td>Steven</td>\n",
       "      <td>Sales Manager</td>\n",
       "      <td>Mr.</td>\n",
       "      <td>1975-03-04</td>\n",
       "      <td>2013-10-17</td>\n",
       "      <td>14 Garrett Hill</td>\n",
       "      <td>London</td>\n",
       "      <td>British Isles</td>\n",
       "      <td>SW1 8JR</td>\n",
       "      <td>UK</td>\n",
       "      <td>(71) 555-4848</td>\n",
       "      <td>3453</td>\n",
       "      <td>b'\\xff\\xd8\\xff\\xe0\\x00\\x10JFIF\\x00\\x01\\x02\\x00...</td>\n",
       "      <td>Steven Buchanan graduated from St. Andrews Uni...</td>\n",
       "      <td>2.0</td>\n",
       "      <td>http://accweb/emmployees/buchanan.bmp</td>\n",
       "    </tr>\n",
       "    <tr>\n",
       "      <th>5</th>\n",
       "      <td>6</td>\n",
       "      <td>Suyama</td>\n",
       "      <td>Michael</td>\n",
       "      <td>Sales Representative</td>\n",
       "      <td>Mr.</td>\n",
       "      <td>1983-07-02</td>\n",
       "      <td>2013-10-17</td>\n",
       "      <td>Coventry House\\nMiner Rd.</td>\n",
       "      <td>London</td>\n",
       "      <td>British Isles</td>\n",
       "      <td>EC2 7JR</td>\n",
       "      <td>UK</td>\n",
       "      <td>(71) 555-7773</td>\n",
       "      <td>428</td>\n",
       "      <td>b'\\xff\\xd8\\xff\\xe0\\x00\\x10JFIF\\x00\\x01\\x02\\x00...</td>\n",
       "      <td>Michael is a graduate of Sussex University (MA...</td>\n",
       "      <td>5.0</td>\n",
       "      <td>http://accweb/emmployees/davolio.bmp</td>\n",
       "    </tr>\n",
       "    <tr>\n",
       "      <th>6</th>\n",
       "      <td>7</td>\n",
       "      <td>King</td>\n",
       "      <td>Robert</td>\n",
       "      <td>Sales Representative</td>\n",
       "      <td>Mr.</td>\n",
       "      <td>1980-05-29</td>\n",
       "      <td>2014-01-02</td>\n",
       "      <td>Edgeham Hollow\\nWinchester Way</td>\n",
       "      <td>London</td>\n",
       "      <td>British Isles</td>\n",
       "      <td>RG1 9SP</td>\n",
       "      <td>UK</td>\n",
       "      <td>(71) 555-5598</td>\n",
       "      <td>465</td>\n",
       "      <td>b'\\xff\\xd8\\xff\\xe0\\x00\\x10JFIF\\x00\\x01\\x02\\x00...</td>\n",
       "      <td>Robert King served in the Peace Corps and trav...</td>\n",
       "      <td>5.0</td>\n",
       "      <td>http://accweb/emmployees/davolio.bmp</td>\n",
       "    </tr>\n",
       "    <tr>\n",
       "      <th>7</th>\n",
       "      <td>8</td>\n",
       "      <td>Callahan</td>\n",
       "      <td>Laura</td>\n",
       "      <td>Inside Sales Coordinator</td>\n",
       "      <td>Ms.</td>\n",
       "      <td>1978-01-09</td>\n",
       "      <td>2014-03-05</td>\n",
       "      <td>4726 - 11th Ave. N.E.</td>\n",
       "      <td>Seattle</td>\n",
       "      <td>North America</td>\n",
       "      <td>98105</td>\n",
       "      <td>USA</td>\n",
       "      <td>(206) 555-1189</td>\n",
       "      <td>2344</td>\n",
       "      <td>b'\\xff\\xd8\\xff\\xe0\\x00\\x10JFIF\\x00\\x01\\x02\\x00...</td>\n",
       "      <td>Laura received a BA in psychology from the Uni...</td>\n",
       "      <td>2.0</td>\n",
       "      <td>http://accweb/emmployees/davolio.bmp</td>\n",
       "    </tr>\n",
       "    <tr>\n",
       "      <th>8</th>\n",
       "      <td>9</td>\n",
       "      <td>Dodsworth</td>\n",
       "      <td>Anne</td>\n",
       "      <td>Sales Representative</td>\n",
       "      <td>Ms.</td>\n",
       "      <td>1986-01-27</td>\n",
       "      <td>2014-11-15</td>\n",
       "      <td>7 Houndstooth Rd.</td>\n",
       "      <td>London</td>\n",
       "      <td>British Isles</td>\n",
       "      <td>WG2 7LT</td>\n",
       "      <td>UK</td>\n",
       "      <td>(71) 555-4444</td>\n",
       "      <td>452</td>\n",
       "      <td>b'\\xff\\xd8\\xff\\xe0\\x00\\x10JFIF\\x00\\x01\\x02\\x00...</td>\n",
       "      <td>Anne has a BA degree in English from St. Lawre...</td>\n",
       "      <td>5.0</td>\n",
       "      <td>http://accweb/emmployees/davolio.bmp</td>\n",
       "    </tr>\n",
       "  </tbody>\n",
       "</table>\n",
       "</div>"
      ],
      "text/plain": [
       "   EmployeeID   LastName FirstName                     Title TitleOfCourtesy  \\\n",
       "0           1    Davolio     Nancy      Sales Representative             Ms.   \n",
       "1           2     Fuller    Andrew     Vice President, Sales             Dr.   \n",
       "2           3  Leverling     Janet      Sales Representative             Ms.   \n",
       "3           4    Peacock  Margaret      Sales Representative            Mrs.   \n",
       "4           5   Buchanan    Steven             Sales Manager             Mr.   \n",
       "5           6     Suyama   Michael      Sales Representative             Mr.   \n",
       "6           7       King    Robert      Sales Representative             Mr.   \n",
       "7           8   Callahan     Laura  Inside Sales Coordinator             Ms.   \n",
       "8           9  Dodsworth      Anne      Sales Representative             Ms.   \n",
       "\n",
       "    BirthDate    HireDate                         Address      City  \\\n",
       "0  1968-12-08  2012-05-01       507 - 20th Ave. E.Apt. 2A   Seattle   \n",
       "1  1972-02-19  2012-08-14              908 W. Capital Way    Tacoma   \n",
       "2  1983-08-30  2012-04-01              722 Moss Bay Blvd.  Kirkland   \n",
       "3  1957-09-19  2013-05-03            4110 Old Redmond Rd.   Redmond   \n",
       "4  1975-03-04  2013-10-17                 14 Garrett Hill    London   \n",
       "5  1983-07-02  2013-10-17       Coventry House\\nMiner Rd.    London   \n",
       "6  1980-05-29  2014-01-02  Edgeham Hollow\\nWinchester Way    London   \n",
       "7  1978-01-09  2014-03-05           4726 - 11th Ave. N.E.   Seattle   \n",
       "8  1986-01-27  2014-11-15               7 Houndstooth Rd.    London   \n",
       "\n",
       "          Region PostalCode Country       HomePhone Extension  \\\n",
       "0  North America      98122     USA  (206) 555-9857      5467   \n",
       "1  North America      98401     USA  (206) 555-9482      3457   \n",
       "2  North America      98033     USA  (206) 555-3412      3355   \n",
       "3  North America      98052     USA  (206) 555-8122      5176   \n",
       "4  British Isles    SW1 8JR      UK   (71) 555-4848      3453   \n",
       "5  British Isles    EC2 7JR      UK   (71) 555-7773       428   \n",
       "6  British Isles    RG1 9SP      UK   (71) 555-5598       465   \n",
       "7  North America      98105     USA  (206) 555-1189      2344   \n",
       "8  British Isles    WG2 7LT      UK   (71) 555-4444       452   \n",
       "\n",
       "                                               Photo  \\\n",
       "0  b'\\xff\\xd8\\xff\\xe0\\x00\\x10JFIF\\x00\\x01\\x02\\x00...   \n",
       "1  b'\\xff\\xd8\\xff\\xe0\\x00\\x10JFIF\\x00\\x01\\x02\\x00...   \n",
       "2  b'\\xff\\xd8\\xff\\xe0\\x00\\x10JFIF\\x00\\x01\\x02\\x00...   \n",
       "3  b'\\xff\\xd8\\xff\\xe0\\x00\\x10JFIF\\x00\\x01\\x02\\x00...   \n",
       "4  b'\\xff\\xd8\\xff\\xe0\\x00\\x10JFIF\\x00\\x01\\x02\\x00...   \n",
       "5  b'\\xff\\xd8\\xff\\xe0\\x00\\x10JFIF\\x00\\x01\\x02\\x00...   \n",
       "6  b'\\xff\\xd8\\xff\\xe0\\x00\\x10JFIF\\x00\\x01\\x02\\x00...   \n",
       "7  b'\\xff\\xd8\\xff\\xe0\\x00\\x10JFIF\\x00\\x01\\x02\\x00...   \n",
       "8  b'\\xff\\xd8\\xff\\xe0\\x00\\x10JFIF\\x00\\x01\\x02\\x00...   \n",
       "\n",
       "                                               Notes  ReportsTo  \\\n",
       "0  Education includes a BA in psychology from Col...        2.0   \n",
       "1  Andrew received his BTS commercial in 1974 and...        NaN   \n",
       "2  Janet has a BS degree in chemistry from Boston...        2.0   \n",
       "3  Margaret holds a BA in English literature from...        2.0   \n",
       "4  Steven Buchanan graduated from St. Andrews Uni...        2.0   \n",
       "5  Michael is a graduate of Sussex University (MA...        5.0   \n",
       "6  Robert King served in the Peace Corps and trav...        5.0   \n",
       "7  Laura received a BA in psychology from the Uni...        2.0   \n",
       "8  Anne has a BA degree in English from St. Lawre...        5.0   \n",
       "\n",
       "                                PhotoPath  \n",
       "0    http://accweb/emmployees/davolio.bmp  \n",
       "1     http://accweb/emmployees/fuller.bmp  \n",
       "2  http://accweb/emmployees/leverling.bmp  \n",
       "3    http://accweb/emmployees/peacock.bmp  \n",
       "4   http://accweb/emmployees/buchanan.bmp  \n",
       "5    http://accweb/emmployees/davolio.bmp  \n",
       "6    http://accweb/emmployees/davolio.bmp  \n",
       "7    http://accweb/emmployees/davolio.bmp  \n",
       "8    http://accweb/emmployees/davolio.bmp  "
      ]
     },
     "execution_count": 41,
     "metadata": {},
     "output_type": "execute_result"
    }
   ],
   "source": [
    "employees"
   ]
  },
  {
   "cell_type": "code",
   "execution_count": 42,
   "id": "1c7c028c",
   "metadata": {},
   "outputs": [
    {
     "data": {
      "text/plain": [
       "np.int64(0)"
      ]
     },
     "execution_count": 42,
     "metadata": {},
     "output_type": "execute_result"
    }
   ],
   "source": [
    "employees.duplicated().sum()"
   ]
  },
  {
   "cell_type": "code",
   "execution_count": 43,
   "id": "96acbebf",
   "metadata": {},
   "outputs": [
    {
     "data": {
      "text/plain": [
       "EmployeeID         0\n",
       "LastName           0\n",
       "FirstName          0\n",
       "Title              0\n",
       "TitleOfCourtesy    0\n",
       "BirthDate          0\n",
       "HireDate           0\n",
       "Address            0\n",
       "City               0\n",
       "Region             0\n",
       "PostalCode         0\n",
       "Country            0\n",
       "HomePhone          0\n",
       "Extension          0\n",
       "Photo              0\n",
       "Notes              0\n",
       "ReportsTo          1\n",
       "PhotoPath          0\n",
       "dtype: int64"
      ]
     },
     "execution_count": 43,
     "metadata": {},
     "output_type": "execute_result"
    }
   ],
   "source": [
    "employees.isnull().sum()"
   ]
  },
  {
   "cell_type": "code",
   "execution_count": 44,
   "id": "33b10cec",
   "metadata": {},
   "outputs": [
    {
     "data": {
      "text/plain": [
       "EmployeeID           int64\n",
       "LastName            object\n",
       "FirstName           object\n",
       "Title               object\n",
       "TitleOfCourtesy     object\n",
       "BirthDate           object\n",
       "HireDate            object\n",
       "Address             object\n",
       "City                object\n",
       "Region              object\n",
       "PostalCode          object\n",
       "Country             object\n",
       "HomePhone           object\n",
       "Extension           object\n",
       "Photo               object\n",
       "Notes               object\n",
       "ReportsTo          float64\n",
       "PhotoPath           object\n",
       "dtype: object"
      ]
     },
     "execution_count": 44,
     "metadata": {},
     "output_type": "execute_result"
    }
   ],
   "source": [
    "employees.dtypes"
   ]
  },
  {
   "cell_type": "markdown",
   "id": "e3a19abf",
   "metadata": {},
   "source": [
    "### Summary – Employees table\n",
    "\n",
    "Table is generally clean and ready for use:  \n",
    "- No duplicated rows  \n",
    "- `EmployeeID` is unique → serves as the **primary key**. The Northwind database contains 9 employees in total.\n",
    "- One missing value in `ReportTo` (manager of all other employees)  \n",
    "\n",
    "> **Cleaning actions:**  \n",
    "> - Drop the `TitleOfCourtesy`, `BirthDate`, `Address`, `PostalCode`, `HomePhone`, `Extension`, `Photo`, `Notes`, and `PhotoPath` columns (not useful)  \n",
    "> - Convert `HireDate` to datetime  \n",
    "> - Convert all `object` columns to `string` for consistency and Power BI compatibility  \n",
    "> - Merge the `FirstName` and `LastName` columns  \n",
    "> - Replace missing value in `ReportsTo` with `-1` (likely top-level manager)"
   ]
  },
  {
   "cell_type": "markdown",
   "id": "f4abdfad",
   "metadata": {},
   "source": [
    "## 9. Exploring the `Shippers` table"
   ]
  },
  {
   "cell_type": "code",
   "execution_count": 45,
   "id": "13db6f11",
   "metadata": {},
   "outputs": [
    {
     "data": {
      "text/html": [
       "<div>\n",
       "<style scoped>\n",
       "    .dataframe tbody tr th:only-of-type {\n",
       "        vertical-align: middle;\n",
       "    }\n",
       "\n",
       "    .dataframe tbody tr th {\n",
       "        vertical-align: top;\n",
       "    }\n",
       "\n",
       "    .dataframe thead th {\n",
       "        text-align: right;\n",
       "    }\n",
       "</style>\n",
       "<table border=\"1\" class=\"dataframe\">\n",
       "  <thead>\n",
       "    <tr style=\"text-align: right;\">\n",
       "      <th></th>\n",
       "      <th>ShipperID</th>\n",
       "      <th>CompanyName</th>\n",
       "      <th>Phone</th>\n",
       "    </tr>\n",
       "  </thead>\n",
       "  <tbody>\n",
       "    <tr>\n",
       "      <th>0</th>\n",
       "      <td>1</td>\n",
       "      <td>Speedy Express</td>\n",
       "      <td>(503) 555-9831</td>\n",
       "    </tr>\n",
       "    <tr>\n",
       "      <th>1</th>\n",
       "      <td>2</td>\n",
       "      <td>United Package</td>\n",
       "      <td>(503) 555-3199</td>\n",
       "    </tr>\n",
       "    <tr>\n",
       "      <th>2</th>\n",
       "      <td>3</td>\n",
       "      <td>Federal Shipping</td>\n",
       "      <td>(503) 555-9931</td>\n",
       "    </tr>\n",
       "  </tbody>\n",
       "</table>\n",
       "</div>"
      ],
      "text/plain": [
       "   ShipperID       CompanyName           Phone\n",
       "0          1    Speedy Express  (503) 555-9831\n",
       "1          2    United Package  (503) 555-3199\n",
       "2          3  Federal Shipping  (503) 555-9931"
      ]
     },
     "execution_count": 45,
     "metadata": {},
     "output_type": "execute_result"
    }
   ],
   "source": [
    "shippers = pd.read_sql_query(\"SELECT * FROM Shippers;\", conn)\n",
    "shippers"
   ]
  },
  {
   "cell_type": "code",
   "execution_count": 46,
   "id": "5fd539b7",
   "metadata": {},
   "outputs": [
    {
     "data": {
      "text/plain": [
       "ShipperID       int64\n",
       "CompanyName    object\n",
       "Phone          object\n",
       "dtype: object"
      ]
     },
     "execution_count": 46,
     "metadata": {},
     "output_type": "execute_result"
    }
   ],
   "source": [
    "shippers.dtypes"
   ]
  },
  {
   "cell_type": "markdown",
   "id": "cf09638d",
   "metadata": {},
   "source": [
    "### Summary – `Shippers` table\n",
    "\n",
    "- Table contains the names of the shippers\n",
    "\n",
    "> **Cleaning actions:**\n",
    ">  `Phone`column will be removed\n",
    "> - Convert object columns to string type"
   ]
  },
  {
   "cell_type": "markdown",
   "id": "cf361d97",
   "metadata": {},
   "source": [
    "### Other changes\n",
    "\n",
    "- Some column names will be renamed directly in Power Query for clarity and consistency  \n",
    "- A further check of data types will be done in Power Query to ensure compatibility with visualizations  \n",
    "- Column ordering and formatting (e.g. dates, merged names) can also be adjusted in Power Query if needed  \n",
    "- Final handling of missing values (e.g. `Unknown`, blanks) will be validated in Power BI"
   ]
  }
 ],
 "metadata": {
  "kernelspec": {
   "display_name": "Python 3",
   "language": "python",
   "name": "python3"
  },
  "language_info": {
   "codemirror_mode": {
    "name": "ipython",
    "version": 3
   },
   "file_extension": ".py",
   "mimetype": "text/x-python",
   "name": "python",
   "nbconvert_exporter": "python",
   "pygments_lexer": "ipython3",
   "version": "3.13.5"
  }
 },
 "nbformat": 4,
 "nbformat_minor": 5
}
